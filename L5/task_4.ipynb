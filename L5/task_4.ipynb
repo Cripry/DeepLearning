{
 "cells": [
  {
   "cell_type": "code",
   "execution_count": 24,
   "metadata": {},
   "outputs": [
    {
     "name": "stdout",
     "output_type": "stream",
     "text": [
      "Simple CNN Architecture:\n",
      "SimpleCNN(\n",
      "  (conv1): Conv2d(3, 16, kernel_size=(3, 3), stride=(1, 1), padding=(1, 1))\n",
      "  (conv2): Conv2d(16, 32, kernel_size=(3, 3), stride=(1, 1), padding=(1, 1))\n",
      "  (conv3): Conv2d(32, 64, kernel_size=(3, 3), stride=(1, 1), padding=(1, 1))\n",
      "  (pool): MaxPool2d(kernel_size=2, stride=2, padding=0, dilation=1, ceil_mode=False)\n",
      "  (fc1): Linear(in_features=1024, out_features=512, bias=True)\n",
      "  (fc2): Linear(in_features=512, out_features=10, bias=True)\n",
      "  (relu): ReLU()\n",
      "  (dropout): Dropout(p=0.5, inplace=False)\n",
      ")\n",
      "\n",
      "ResNet Transfer Learning Architecture:\n",
      "ResNetTransfer(\n",
      "  (resnet): ResNet(\n",
      "    (conv1): Conv2d(3, 64, kernel_size=(7, 7), stride=(2, 2), padding=(3, 3), bias=False)\n",
      "    (bn1): BatchNorm2d(64, eps=1e-05, momentum=0.1, affine=True, track_running_stats=True)\n",
      "    (relu): ReLU(inplace=True)\n",
      "    (maxpool): MaxPool2d(kernel_size=3, stride=2, padding=1, dilation=1, ceil_mode=False)\n",
      "    (layer1): Sequential(\n",
      "      (0): BasicBlock(\n",
      "        (conv1): Conv2d(64, 64, kernel_size=(3, 3), stride=(1, 1), padding=(1, 1), bias=False)\n",
      "        (bn1): BatchNorm2d(64, eps=1e-05, momentum=0.1, affine=True, track_running_stats=True)\n",
      "        (relu): ReLU(inplace=True)\n",
      "        (conv2): Conv2d(64, 64, kernel_size=(3, 3), stride=(1, 1), padding=(1, 1), bias=False)\n",
      "        (bn2): BatchNorm2d(64, eps=1e-05, momentum=0.1, affine=True, track_running_stats=True)\n",
      "      )\n",
      "      (1): BasicBlock(\n",
      "        (conv1): Conv2d(64, 64, kernel_size=(3, 3), stride=(1, 1), padding=(1, 1), bias=False)\n",
      "        (bn1): BatchNorm2d(64, eps=1e-05, momentum=0.1, affine=True, track_running_stats=True)\n",
      "        (relu): ReLU(inplace=True)\n",
      "        (conv2): Conv2d(64, 64, kernel_size=(3, 3), stride=(1, 1), padding=(1, 1), bias=False)\n",
      "        (bn2): BatchNorm2d(64, eps=1e-05, momentum=0.1, affine=True, track_running_stats=True)\n",
      "      )\n",
      "    )\n",
      "    (layer2): Sequential(\n",
      "      (0): BasicBlock(\n",
      "        (conv1): Conv2d(64, 128, kernel_size=(3, 3), stride=(2, 2), padding=(1, 1), bias=False)\n",
      "        (bn1): BatchNorm2d(128, eps=1e-05, momentum=0.1, affine=True, track_running_stats=True)\n",
      "        (relu): ReLU(inplace=True)\n",
      "        (conv2): Conv2d(128, 128, kernel_size=(3, 3), stride=(1, 1), padding=(1, 1), bias=False)\n",
      "        (bn2): BatchNorm2d(128, eps=1e-05, momentum=0.1, affine=True, track_running_stats=True)\n",
      "        (downsample): Sequential(\n",
      "          (0): Conv2d(64, 128, kernel_size=(1, 1), stride=(2, 2), bias=False)\n",
      "          (1): BatchNorm2d(128, eps=1e-05, momentum=0.1, affine=True, track_running_stats=True)\n",
      "        )\n",
      "      )\n",
      "      (1): BasicBlock(\n",
      "        (conv1): Conv2d(128, 128, kernel_size=(3, 3), stride=(1, 1), padding=(1, 1), bias=False)\n",
      "        (bn1): BatchNorm2d(128, eps=1e-05, momentum=0.1, affine=True, track_running_stats=True)\n",
      "        (relu): ReLU(inplace=True)\n",
      "        (conv2): Conv2d(128, 128, kernel_size=(3, 3), stride=(1, 1), padding=(1, 1), bias=False)\n",
      "        (bn2): BatchNorm2d(128, eps=1e-05, momentum=0.1, affine=True, track_running_stats=True)\n",
      "      )\n",
      "    )\n",
      "    (layer3): Sequential(\n",
      "      (0): BasicBlock(\n",
      "        (conv1): Conv2d(128, 256, kernel_size=(3, 3), stride=(2, 2), padding=(1, 1), bias=False)\n",
      "        (bn1): BatchNorm2d(256, eps=1e-05, momentum=0.1, affine=True, track_running_stats=True)\n",
      "        (relu): ReLU(inplace=True)\n",
      "        (conv2): Conv2d(256, 256, kernel_size=(3, 3), stride=(1, 1), padding=(1, 1), bias=False)\n",
      "        (bn2): BatchNorm2d(256, eps=1e-05, momentum=0.1, affine=True, track_running_stats=True)\n",
      "        (downsample): Sequential(\n",
      "          (0): Conv2d(128, 256, kernel_size=(1, 1), stride=(2, 2), bias=False)\n",
      "          (1): BatchNorm2d(256, eps=1e-05, momentum=0.1, affine=True, track_running_stats=True)\n",
      "        )\n",
      "      )\n",
      "      (1): BasicBlock(\n",
      "        (conv1): Conv2d(256, 256, kernel_size=(3, 3), stride=(1, 1), padding=(1, 1), bias=False)\n",
      "        (bn1): BatchNorm2d(256, eps=1e-05, momentum=0.1, affine=True, track_running_stats=True)\n",
      "        (relu): ReLU(inplace=True)\n",
      "        (conv2): Conv2d(256, 256, kernel_size=(3, 3), stride=(1, 1), padding=(1, 1), bias=False)\n",
      "        (bn2): BatchNorm2d(256, eps=1e-05, momentum=0.1, affine=True, track_running_stats=True)\n",
      "      )\n",
      "    )\n",
      "    (layer4): Sequential(\n",
      "      (0): BasicBlock(\n",
      "        (conv1): Conv2d(256, 512, kernel_size=(3, 3), stride=(2, 2), padding=(1, 1), bias=False)\n",
      "        (bn1): BatchNorm2d(512, eps=1e-05, momentum=0.1, affine=True, track_running_stats=True)\n",
      "        (relu): ReLU(inplace=True)\n",
      "        (conv2): Conv2d(512, 512, kernel_size=(3, 3), stride=(1, 1), padding=(1, 1), bias=False)\n",
      "        (bn2): BatchNorm2d(512, eps=1e-05, momentum=0.1, affine=True, track_running_stats=True)\n",
      "        (downsample): Sequential(\n",
      "          (0): Conv2d(256, 512, kernel_size=(1, 1), stride=(2, 2), bias=False)\n",
      "          (1): BatchNorm2d(512, eps=1e-05, momentum=0.1, affine=True, track_running_stats=True)\n",
      "        )\n",
      "      )\n",
      "      (1): BasicBlock(\n",
      "        (conv1): Conv2d(512, 512, kernel_size=(3, 3), stride=(1, 1), padding=(1, 1), bias=False)\n",
      "        (bn1): BatchNorm2d(512, eps=1e-05, momentum=0.1, affine=True, track_running_stats=True)\n",
      "        (relu): ReLU(inplace=True)\n",
      "        (conv2): Conv2d(512, 512, kernel_size=(3, 3), stride=(1, 1), padding=(1, 1), bias=False)\n",
      "        (bn2): BatchNorm2d(512, eps=1e-05, momentum=0.1, affine=True, track_running_stats=True)\n",
      "      )\n",
      "    )\n",
      "    (avgpool): AdaptiveAvgPool2d(output_size=(1, 1))\n",
      "    (fc): Linear(in_features=512, out_features=10, bias=True)\n",
      "  )\n",
      ")\n"
     ]
    }
   ],
   "source": [
    "import torch\n",
    "import torch.nn as nn\n",
    "import torchvision\n",
    "import torchvision.transforms as transforms\n",
    "from torchvision.models import resnet18, ResNet18_Weights\n",
    "import torch.optim as optim\n",
    "from tqdm import tqdm\n",
    "from PIL import Image\n",
    "\n",
    "# Option 1: Simple CNN from scratch\n",
    "class SimpleCNN(nn.Module):\n",
    "    def __init__(self, num_classes=10):\n",
    "        super(SimpleCNN, self).__init__()\n",
    "        self.conv1 = nn.Conv2d(3, 16, kernel_size=3, padding=1)\n",
    "        self.conv2 = nn.Conv2d(16, 32, kernel_size=3, padding=1)\n",
    "        self.conv3 = nn.Conv2d(32, 64, kernel_size=3, padding=1)\n",
    "        self.pool = nn.MaxPool2d(2, 2)\n",
    "        self.fc1 = nn.Linear(64 * 4 * 4, 512)\n",
    "        self.fc2 = nn.Linear(512, num_classes)\n",
    "        self.relu = nn.ReLU()\n",
    "        self.dropout = nn.Dropout(0.5)\n",
    "\n",
    "    def forward(self, x):\n",
    "        x = self.pool(self.relu(self.conv1(x)))\n",
    "        x = self.pool(self.relu(self.conv2(x)))\n",
    "        x = self.pool(self.relu(self.conv3(x)))\n",
    "        x = x.view(-1, 64 * 4 * 4)\n",
    "        x = self.dropout(self.relu(self.fc1(x)))\n",
    "        x = self.fc2(x)\n",
    "        return x\n",
    "\n",
    "# Option 2: Transfer Learning with ResNet\n",
    "class ResNetTransfer(nn.Module):\n",
    "    def __init__(self, num_classes=10):\n",
    "        super(ResNetTransfer, self).__init__()\n",
    "        # Load pretrained ResNet18\n",
    "        self.resnet = resnet18(weights=ResNet18_Weights.DEFAULT)\n",
    "        \n",
    "        # Freeze all layers\n",
    "        for param in self.resnet.parameters():\n",
    "            param.requires_grad = False\n",
    "            \n",
    "        # Replace the final fully connected layer\n",
    "        num_features = self.resnet.fc.in_features\n",
    "        self.resnet.fc = nn.Linear(num_features, num_classes)\n",
    "\n",
    "    def forward(self, x):\n",
    "        return self.resnet(x)\n",
    "        \n",
    "\n",
    "# Example usage:\n",
    "def main():\n",
    "    # Create instances of both models\n",
    "    simple_cnn = SimpleCNN(num_classes=10)\n",
    "    resnet_transfer = ResNetTransfer(num_classes=10)\n",
    "    \n",
    "    # Print model summaries\n",
    "    print(\"Simple CNN Architecture:\")\n",
    "    print(simple_cnn)\n",
    "    print(\"\\nResNet Transfer Learning Architecture:\")\n",
    "    print(resnet_transfer)\n",
    "\n",
    "if __name__ == \"__main__\":\n",
    "    main()"
   ]
  },
  {
   "cell_type": "code",
   "execution_count": 25,
   "metadata": {},
   "outputs": [],
   "source": [
    "import torch\n",
    "import torch.nn as nn\n",
    "import torchvision\n",
    "import torchvision.transforms as transforms\n",
    "from torchvision.models import resnet18, ResNet18_Weights\n",
    "import os\n",
    "from torch.utils.data import Dataset, DataLoader,  random_split"
   ]
  },
  {
   "cell_type": "code",
   "execution_count": 69,
   "metadata": {},
   "outputs": [],
   "source": [
    "# Option 1: Simple CNN from scratch\n",
    "class SimpleCNN(nn.Module):\n",
    "    def __init__(self, num_classes=10):\n",
    "        super(SimpleCNN, self).__init__()\n",
    "        self.conv1 = nn.Conv2d(3, 16, kernel_size=3, padding=1)\n",
    "        self.conv2 = nn.Conv2d(16, 32, kernel_size=3, padding=1)\n",
    "        self.conv3 = nn.Conv2d(32, 64, kernel_size=3, padding=1)\n",
    "        self.pool = nn.MaxPool2d(2, 2)\n",
    "        self.fc1 = nn.Linear(64 * 21 * 28, 512)\n",
    "        self.fc2 = nn.Linear(512, num_classes)\n",
    "        self.relu = nn.ReLU()\n",
    "        self.dropout = nn.Dropout(0.5)\n",
    "\n",
    "        self.device = torch.device(\"cuda\" if torch.cuda.is_available() else \"cpu\")\n",
    "\n",
    "\n",
    "    def forward(self, x):\n",
    "        x = self.pool(self.relu(self.conv1(x)))\n",
    "        x = self.pool(self.relu(self.conv2(x)))\n",
    "        x = self.pool(self.relu(self.conv3(x)))\n",
    "\n",
    "        print(x.shape)\n",
    "        x = x.view(x.size(0), -1)\n",
    "        x = self.dropout(self.relu(self.fc1(x)))\n",
    "        x = self.fc2(x)\n",
    "\n",
    "        return x\n",
    "    \n",
    "    def train_model(self, train_loader, num_epochs=10, lr=0.01):\n",
    "        criterion = nn.CrossEntropyLoss()\n",
    "        optimizer = optim.Adam(self.parameters(), lr=lr)\n",
    "        best_accuracy = 0.0\n",
    "\n",
    "        for epoch in range(num_epochs):\n",
    "            self.train()\n",
    "            running_loss, correct, total = 0.0, 0, 0\n",
    "            loop = tqdm(train_loader, desc=f\"Epoch {epoch+1}/{num_epochs}\")\n",
    "\n",
    "            for images, labels in loop:\n",
    "                images, labels = images.to(self.device), labels.to(self.device)\n",
    "\n",
    "                optimizer.zero_grad()\n",
    "                outputs = self(images)\n",
    "                loss = criterion(outputs, labels)\n",
    "                loss.backward()\n",
    "                optimizer.step()\n",
    "\n",
    "                running_loss += loss.item()\n",
    "                _, predicted = torch.max(outputs, 1)\n",
    "                correct += (predicted == labels).sum().item()\n",
    "                total += labels.size(0)\n",
    "\n",
    "                loop.set_postfix(loss=loss.item(), acc=100 * correct / total)\n",
    "\n",
    "            epoch_acc = 100 * correct / total\n",
    "            print(f\"Epoch [{epoch+1}/{num_epochs}], Loss: {running_loss / len(train_loader):.4f}, Accuracy: {epoch_acc:.2f}%\")\n",
    "\n",
    "            if epoch_acc > best_accuracy:\n",
    "                best_accuracy = epoch_acc\n",
    "                torch.save(self.state_dict(), \"best_model.pth\")\n",
    "                print(\"Model saved!\")\n",
    "\n",
    "\n",
    "    def evaluate_model(self, test_loader):\n",
    "        self.eval()\n",
    "        correct, total, test_loss = 0, 0, 0.0\n",
    "        criterion = nn.CrossEntropyLoss()\n",
    "\n",
    "        with torch.no_grad():\n",
    "            for images, labels in test_loader:\n",
    "                images, labels = images.to(self.device), labels.to(self.device)\n",
    "                outputs = self(images)\n",
    "                loss = criterion(outputs, labels)\n",
    "                test_loss += loss.item()\n",
    "\n",
    "                _, predicted = torch.max(outputs, 1)\n",
    "                correct += (predicted == labels).sum().item()\n",
    "                total += labels.size(0)\n",
    "\n",
    "        test_accuracy = 100 * correct / total\n",
    "        print(f\"\\n📊 Test Loss: {test_loss / len(test_loader):.4f}, Test Accuracy: {test_accuracy:.2f}%\")\n",
    "\n",
    "\n"
   ]
  },
  {
   "cell_type": "code",
   "execution_count": 70,
   "metadata": {},
   "outputs": [],
   "source": [
    "class CustomImageDataset(Dataset):\n",
    "    def __init__(self, root_dir, transform=None):\n",
    "        self.root_dir = root_dir\n",
    "        self.transform = transform\n",
    "        self.data = []\n",
    "        self.class_to_idx =  {}\n",
    "\n",
    "        # Assign class labels based on folder names\n",
    "        class_folders = sorted(os.listdir(root_dir))\n",
    "        for idx, class_name in enumerate(class_folders):\n",
    "            class_path = os.path.join(root_dir, class_name)\n",
    "            if os.path.isdir(class_path):\n",
    "                self.class_to_idx[class_name] = idx # Assign a  label\n",
    "                for img_name in os.listdir(class_path):\n",
    "                    img_path = os.path.join(class_path, img_name)\n",
    "                    self.data.append((img_path, idx))\n",
    "\n",
    "    def __len__(self):\n",
    "        return len(self.data)\n",
    "    \n",
    "    def __getitem__(self, idx):\n",
    "        img_path, label = self.data[idx]\n",
    "        image = Image.open(img_path).convert(\"RGB\")\n",
    "\n",
    "        if self.transform:\n",
    "            image = self.transform(image)\n",
    "\n",
    "        return image, label\n",
    "    \n",
    "transform = transforms.Compose([\n",
    "    transforms.Resize((168, 224)),  # Smaller images\n",
    "    transforms.ToTensor(),\n",
    "    transforms.Normalize(mean=[0.5, 0.5, 0.5], std=[0.5,0.5,0.5])\n",
    "])"
   ]
  },
  {
   "cell_type": "code",
   "execution_count": null,
   "metadata": {},
   "outputs": [],
   "source": [
    "dataset_path = r'document_classification\\document_classification'\n",
    "\n",
    "full_dataset = CustomImageDataset(root_dir=dataset_path, transform=transform)"
   ]
  },
  {
   "cell_type": "code",
   "execution_count": null,
   "metadata": {},
   "outputs": [
    {
     "name": "stdout",
     "output_type": "stream",
     "text": [
      "Classes: {'email': 0, 'resume': 1, 'scientific_publication': 2}\n",
      "Total images: 165, Train: 132, Test: 33\n"
     ]
    }
   ],
   "source": [
    "# Split into train (80%) and test (20%)\n",
    "train_size = int(0.8 * len(full_dataset))\n",
    "test_size = len(full_dataset) - train_size\n",
    "train_dataset, test_dataset = random_split(full_dataset, [train_size, test_size])\n",
    "\n",
    "# Create DataLoaders\n",
    "train_loader = DataLoader(train_dataset, batch_size=32, shuffle=True, num_workers=0)\n",
    "test_loader = DataLoader(test_dataset, batch_size=32, shuffle=False, num_workers=0)\n",
    "\n",
    "# Check dataset structure\n",
    "print(f\"Classes: {full_dataset.class_to_idx}\")\n",
    "print(f\"Total images: {len(full_dataset)}, Train: {len(train_dataset)}, Test: {len(test_dataset)}\")"
   ]
  },
  {
   "cell_type": "code",
   "execution_count": 75,
   "metadata": {},
   "outputs": [
    {
     "name": "stderr",
     "output_type": "stream",
     "text": [
      "Epoch 1/15:   0%|          | 0/5 [00:00<?, ?it/s]"
     ]
    },
    {
     "name": "stdout",
     "output_type": "stream",
     "text": [
      "torch.Size([32, 64, 21, 28])\n"
     ]
    },
    {
     "name": "stderr",
     "output_type": "stream",
     "text": [
      "Epoch 1/15:  20%|██        | 1/5 [00:00<00:03,  1.28it/s, acc=40.6, loss=1.09]"
     ]
    },
    {
     "name": "stdout",
     "output_type": "stream",
     "text": [
      "torch.Size([32, 64, 21, 28])\n"
     ]
    },
    {
     "name": "stderr",
     "output_type": "stream",
     "text": [
      "Epoch 1/15:  40%|████      | 2/5 [00:01<00:02,  1.24it/s, acc=39.1, loss=1.58]"
     ]
    },
    {
     "name": "stdout",
     "output_type": "stream",
     "text": [
      "torch.Size([32, 64, 21, 28])\n"
     ]
    },
    {
     "name": "stderr",
     "output_type": "stream",
     "text": [
      "Epoch 1/15:  60%|██████    | 3/5 [00:02<00:01,  1.22it/s, acc=41.7, loss=1.04]"
     ]
    },
    {
     "name": "stdout",
     "output_type": "stream",
     "text": [
      "torch.Size([32, 64, 21, 28])\n"
     ]
    },
    {
     "name": "stderr",
     "output_type": "stream",
     "text": [
      "Epoch 1/15: 100%|██████████| 5/5 [00:03<00:00,  1.43it/s, acc=38.6, loss=0.968]"
     ]
    },
    {
     "name": "stdout",
     "output_type": "stream",
     "text": [
      "torch.Size([4, 64, 21, 28])\n",
      "Epoch [1/15], Loss: 1.2045, Accuracy: 38.64%\n"
     ]
    },
    {
     "name": "stderr",
     "output_type": "stream",
     "text": [
      "\n"
     ]
    },
    {
     "name": "stdout",
     "output_type": "stream",
     "text": [
      "Model saved!\n"
     ]
    },
    {
     "name": "stderr",
     "output_type": "stream",
     "text": [
      "Epoch 2/15:   0%|          | 0/5 [00:00<?, ?it/s]"
     ]
    },
    {
     "name": "stdout",
     "output_type": "stream",
     "text": [
      "torch.Size([32, 64, 21, 28])\n"
     ]
    },
    {
     "name": "stderr",
     "output_type": "stream",
     "text": [
      "Epoch 2/15:  20%|██        | 1/5 [00:00<00:03,  1.13it/s, acc=62.5, loss=1.02]"
     ]
    },
    {
     "name": "stdout",
     "output_type": "stream",
     "text": [
      "torch.Size([32, 64, 21, 28])\n"
     ]
    },
    {
     "name": "stderr",
     "output_type": "stream",
     "text": [
      "Epoch 2/15:  40%|████      | 2/5 [00:01<00:02,  1.18it/s, acc=59.4, loss=0.959]"
     ]
    },
    {
     "name": "stdout",
     "output_type": "stream",
     "text": [
      "torch.Size([32, 64, 21, 28])\n"
     ]
    },
    {
     "name": "stderr",
     "output_type": "stream",
     "text": [
      "Epoch 2/15:  60%|██████    | 3/5 [00:02<00:01,  1.27it/s, acc=61.5, loss=0.901]"
     ]
    },
    {
     "name": "stdout",
     "output_type": "stream",
     "text": [
      "torch.Size([32, 64, 21, 28])\n"
     ]
    },
    {
     "name": "stderr",
     "output_type": "stream",
     "text": [
      "Epoch 2/15: 100%|██████████| 5/5 [00:03<00:00,  1.45it/s, acc=59.8, loss=1.21] "
     ]
    },
    {
     "name": "stdout",
     "output_type": "stream",
     "text": [
      "torch.Size([4, 64, 21, 28])\n",
      "Epoch [2/15], Loss: 0.9957, Accuracy: 59.85%\n"
     ]
    },
    {
     "name": "stderr",
     "output_type": "stream",
     "text": [
      "\n"
     ]
    },
    {
     "name": "stdout",
     "output_type": "stream",
     "text": [
      "Model saved!\n"
     ]
    },
    {
     "name": "stderr",
     "output_type": "stream",
     "text": [
      "Epoch 3/15:   0%|          | 0/5 [00:00<?, ?it/s]"
     ]
    },
    {
     "name": "stdout",
     "output_type": "stream",
     "text": [
      "torch.Size([32, 64, 21, 28])\n"
     ]
    },
    {
     "name": "stderr",
     "output_type": "stream",
     "text": [
      "Epoch 3/15:  20%|██        | 1/5 [00:00<00:03,  1.29it/s, acc=50, loss=0.924]"
     ]
    },
    {
     "name": "stdout",
     "output_type": "stream",
     "text": [
      "torch.Size([32, 64, 21, 28])\n"
     ]
    },
    {
     "name": "stderr",
     "output_type": "stream",
     "text": [
      "Epoch 3/15:  40%|████      | 2/5 [00:01<00:02,  1.18it/s, acc=60.9, loss=0.721]"
     ]
    },
    {
     "name": "stdout",
     "output_type": "stream",
     "text": [
      "torch.Size([32, 64, 21, 28])\n"
     ]
    },
    {
     "name": "stderr",
     "output_type": "stream",
     "text": [
      "Epoch 3/15:  60%|██████    | 3/5 [00:02<00:01,  1.20it/s, acc=62.5, loss=0.781]"
     ]
    },
    {
     "name": "stdout",
     "output_type": "stream",
     "text": [
      "torch.Size([32, 64, 21, 28])\n"
     ]
    },
    {
     "name": "stderr",
     "output_type": "stream",
     "text": [
      "Epoch 3/15:  80%|████████  | 4/5 [00:03<00:00,  1.14it/s, acc=61.7, loss=0.843]"
     ]
    },
    {
     "name": "stdout",
     "output_type": "stream",
     "text": [
      "torch.Size([4, 64, 21, 28])\n"
     ]
    },
    {
     "name": "stderr",
     "output_type": "stream",
     "text": [
      "Epoch 3/15: 100%|██████████| 5/5 [00:03<00:00,  1.36it/s, acc=60.6, loss=1.09] \n"
     ]
    },
    {
     "name": "stdout",
     "output_type": "stream",
     "text": [
      "Epoch [3/15], Loss: 0.8710, Accuracy: 60.61%\n",
      "Model saved!\n"
     ]
    },
    {
     "name": "stderr",
     "output_type": "stream",
     "text": [
      "Epoch 4/15:   0%|          | 0/5 [00:00<?, ?it/s]"
     ]
    },
    {
     "name": "stdout",
     "output_type": "stream",
     "text": [
      "torch.Size([32, 64, 21, 28])\n"
     ]
    },
    {
     "name": "stderr",
     "output_type": "stream",
     "text": [
      "Epoch 4/15:  20%|██        | 1/5 [00:00<00:03,  1.28it/s, acc=53.1, loss=0.727]"
     ]
    },
    {
     "name": "stdout",
     "output_type": "stream",
     "text": [
      "torch.Size([32, 64, 21, 28])\n"
     ]
    },
    {
     "name": "stderr",
     "output_type": "stream",
     "text": [
      "Epoch 4/15:  40%|████      | 2/5 [00:01<00:02,  1.31it/s, acc=60.9, loss=0.675]"
     ]
    },
    {
     "name": "stdout",
     "output_type": "stream",
     "text": [
      "torch.Size([32, 64, 21, 28])\n"
     ]
    },
    {
     "name": "stderr",
     "output_type": "stream",
     "text": [
      "Epoch 4/15:  60%|██████    | 3/5 [00:02<00:01,  1.27it/s, acc=65.6, loss=0.506]"
     ]
    },
    {
     "name": "stdout",
     "output_type": "stream",
     "text": [
      "torch.Size([32, 64, 21, 28])\n"
     ]
    },
    {
     "name": "stderr",
     "output_type": "stream",
     "text": [
      "Epoch 4/15: 100%|██████████| 5/5 [00:03<00:00,  1.49it/s, acc=64.4, loss=0.485]"
     ]
    },
    {
     "name": "stdout",
     "output_type": "stream",
     "text": [
      "torch.Size([4, 64, 21, 28])\n",
      "Epoch [4/15], Loss: 0.6199, Accuracy: 64.39%\n"
     ]
    },
    {
     "name": "stderr",
     "output_type": "stream",
     "text": [
      "\n"
     ]
    },
    {
     "name": "stdout",
     "output_type": "stream",
     "text": [
      "Model saved!\n"
     ]
    },
    {
     "name": "stderr",
     "output_type": "stream",
     "text": [
      "Epoch 5/15:   0%|          | 0/5 [00:00<?, ?it/s]"
     ]
    },
    {
     "name": "stdout",
     "output_type": "stream",
     "text": [
      "torch.Size([32, 64, 21, 28])\n"
     ]
    },
    {
     "name": "stderr",
     "output_type": "stream",
     "text": [
      "Epoch 5/15:  20%|██        | 1/5 [00:00<00:02,  1.38it/s, acc=78.1, loss=0.432]"
     ]
    },
    {
     "name": "stdout",
     "output_type": "stream",
     "text": [
      "torch.Size([32, 64, 21, 28])\n"
     ]
    },
    {
     "name": "stderr",
     "output_type": "stream",
     "text": [
      "Epoch 5/15:  40%|████      | 2/5 [00:01<00:02,  1.33it/s, acc=75, loss=0.643]  "
     ]
    },
    {
     "name": "stdout",
     "output_type": "stream",
     "text": [
      "torch.Size([32, 64, 21, 28])\n"
     ]
    },
    {
     "name": "stderr",
     "output_type": "stream",
     "text": [
      "Epoch 5/15:  60%|██████    | 3/5 [00:02<00:01,  1.35it/s, acc=79.2, loss=0.356]"
     ]
    },
    {
     "name": "stdout",
     "output_type": "stream",
     "text": [
      "torch.Size([32, 64, 21, 28])\n"
     ]
    },
    {
     "name": "stderr",
     "output_type": "stream",
     "text": [
      "Epoch 5/15:  80%|████████  | 4/5 [00:03<00:00,  1.32it/s, acc=80.5, loss=0.456]"
     ]
    },
    {
     "name": "stdout",
     "output_type": "stream",
     "text": [
      "torch.Size([4, 64, 21, 28])\n"
     ]
    },
    {
     "name": "stderr",
     "output_type": "stream",
     "text": [
      "Epoch 5/15: 100%|██████████| 5/5 [00:03<00:00,  1.50it/s, acc=79.5, loss=0.538]\n"
     ]
    },
    {
     "name": "stdout",
     "output_type": "stream",
     "text": [
      "Epoch [5/15], Loss: 0.4849, Accuracy: 79.55%\n",
      "Model saved!\n"
     ]
    },
    {
     "name": "stderr",
     "output_type": "stream",
     "text": [
      "Epoch 6/15:   0%|          | 0/5 [00:00<?, ?it/s]"
     ]
    },
    {
     "name": "stdout",
     "output_type": "stream",
     "text": [
      "torch.Size([32, 64, 21, 28])\n"
     ]
    },
    {
     "name": "stderr",
     "output_type": "stream",
     "text": [
      "Epoch 6/15:  20%|██        | 1/5 [00:00<00:03,  1.30it/s, acc=78.1, loss=0.363]"
     ]
    },
    {
     "name": "stdout",
     "output_type": "stream",
     "text": [
      "torch.Size([32, 64, 21, 28])\n"
     ]
    },
    {
     "name": "stderr",
     "output_type": "stream",
     "text": [
      "Epoch 6/15:  40%|████      | 2/5 [00:01<00:02,  1.32it/s, acc=76.6, loss=0.538]"
     ]
    },
    {
     "name": "stdout",
     "output_type": "stream",
     "text": [
      "torch.Size([32, 64, 21, 28])\n"
     ]
    },
    {
     "name": "stderr",
     "output_type": "stream",
     "text": [
      "Epoch 6/15:  60%|██████    | 3/5 [00:02<00:01,  1.31it/s, acc=81.2, loss=0.388]"
     ]
    },
    {
     "name": "stdout",
     "output_type": "stream",
     "text": [
      "torch.Size([32, 64, 21, 28])\n"
     ]
    },
    {
     "name": "stderr",
     "output_type": "stream",
     "text": [
      "Epoch 6/15: 100%|██████████| 5/5 [00:03<00:00,  1.52it/s, acc=81.8, loss=0.476]"
     ]
    },
    {
     "name": "stdout",
     "output_type": "stream",
     "text": [
      "torch.Size([4, 64, 21, 28])\n",
      "Epoch [6/15], Loss: 0.4455, Accuracy: 81.82%\n"
     ]
    },
    {
     "name": "stderr",
     "output_type": "stream",
     "text": [
      "\n"
     ]
    },
    {
     "name": "stdout",
     "output_type": "stream",
     "text": [
      "Model saved!\n"
     ]
    },
    {
     "name": "stderr",
     "output_type": "stream",
     "text": [
      "Epoch 7/15:   0%|          | 0/5 [00:00<?, ?it/s]"
     ]
    },
    {
     "name": "stdout",
     "output_type": "stream",
     "text": [
      "torch.Size([32, 64, 21, 28])\n"
     ]
    },
    {
     "name": "stderr",
     "output_type": "stream",
     "text": [
      "Epoch 7/15:  20%|██        | 1/5 [00:00<00:03,  1.29it/s, acc=90.6, loss=0.411]"
     ]
    },
    {
     "name": "stdout",
     "output_type": "stream",
     "text": [
      "torch.Size([32, 64, 21, 28])\n"
     ]
    },
    {
     "name": "stderr",
     "output_type": "stream",
     "text": [
      "Epoch 7/15:  40%|████      | 2/5 [00:01<00:02,  1.26it/s, acc=87.5, loss=0.383]"
     ]
    },
    {
     "name": "stdout",
     "output_type": "stream",
     "text": [
      "torch.Size([32, 64, 21, 28])\n"
     ]
    },
    {
     "name": "stderr",
     "output_type": "stream",
     "text": [
      "Epoch 7/15:  60%|██████    | 3/5 [00:02<00:01,  1.30it/s, acc=87.5, loss=0.535]"
     ]
    },
    {
     "name": "stdout",
     "output_type": "stream",
     "text": [
      "torch.Size([32, 64, 21, 28])\n"
     ]
    },
    {
     "name": "stderr",
     "output_type": "stream",
     "text": [
      "Epoch 7/15:  80%|████████  | 4/5 [00:03<00:00,  1.32it/s, acc=88.3, loss=0.243]"
     ]
    },
    {
     "name": "stdout",
     "output_type": "stream",
     "text": [
      "torch.Size([4, 64, 21, 28])\n"
     ]
    },
    {
     "name": "stderr",
     "output_type": "stream",
     "text": [
      "Epoch 7/15: 100%|██████████| 5/5 [00:03<00:00,  1.51it/s, acc=87.9, loss=0.825]\n"
     ]
    },
    {
     "name": "stdout",
     "output_type": "stream",
     "text": [
      "Epoch [7/15], Loss: 0.4796, Accuracy: 87.88%\n",
      "Model saved!\n"
     ]
    },
    {
     "name": "stderr",
     "output_type": "stream",
     "text": [
      "Epoch 8/15:   0%|          | 0/5 [00:00<?, ?it/s]"
     ]
    },
    {
     "name": "stdout",
     "output_type": "stream",
     "text": [
      "torch.Size([32, 64, 21, 28])\n"
     ]
    },
    {
     "name": "stderr",
     "output_type": "stream",
     "text": [
      "Epoch 8/15:  20%|██        | 1/5 [00:00<00:02,  1.36it/s, acc=90.6, loss=0.347]"
     ]
    },
    {
     "name": "stdout",
     "output_type": "stream",
     "text": [
      "torch.Size([32, 64, 21, 28])\n"
     ]
    },
    {
     "name": "stderr",
     "output_type": "stream",
     "text": [
      "Epoch 8/15:  40%|████      | 2/5 [00:01<00:02,  1.23it/s, acc=93.8, loss=0.159]"
     ]
    },
    {
     "name": "stdout",
     "output_type": "stream",
     "text": [
      "torch.Size([32, 64, 21, 28])\n"
     ]
    },
    {
     "name": "stderr",
     "output_type": "stream",
     "text": [
      "Epoch 8/15:  60%|██████    | 3/5 [00:02<00:01,  1.29it/s, acc=91.7, loss=0.371]"
     ]
    },
    {
     "name": "stdout",
     "output_type": "stream",
     "text": [
      "torch.Size([32, 64, 21, 28])\n"
     ]
    },
    {
     "name": "stderr",
     "output_type": "stream",
     "text": [
      "Epoch 8/15: 100%|██████████| 5/5 [00:03<00:00,  1.49it/s, acc=90.9, loss=0.114]"
     ]
    },
    {
     "name": "stdout",
     "output_type": "stream",
     "text": [
      "torch.Size([4, 64, 21, 28])\n",
      "Epoch [8/15], Loss: 0.2832, Accuracy: 90.91%\n"
     ]
    },
    {
     "name": "stderr",
     "output_type": "stream",
     "text": [
      "\n"
     ]
    },
    {
     "name": "stdout",
     "output_type": "stream",
     "text": [
      "Model saved!\n"
     ]
    },
    {
     "name": "stderr",
     "output_type": "stream",
     "text": [
      "Epoch 9/15:   0%|          | 0/5 [00:00<?, ?it/s]"
     ]
    },
    {
     "name": "stdout",
     "output_type": "stream",
     "text": [
      "torch.Size([32, 64, 21, 28])\n"
     ]
    },
    {
     "name": "stderr",
     "output_type": "stream",
     "text": [
      "Epoch 9/15:  20%|██        | 1/5 [00:00<00:03,  1.24it/s, acc=96.9, loss=0.148]"
     ]
    },
    {
     "name": "stdout",
     "output_type": "stream",
     "text": [
      "torch.Size([32, 64, 21, 28])\n"
     ]
    },
    {
     "name": "stderr",
     "output_type": "stream",
     "text": [
      "Epoch 9/15:  40%|████      | 2/5 [00:01<00:02,  1.29it/s, acc=92.2, loss=0.322]"
     ]
    },
    {
     "name": "stdout",
     "output_type": "stream",
     "text": [
      "torch.Size([32, 64, 21, 28])\n"
     ]
    },
    {
     "name": "stderr",
     "output_type": "stream",
     "text": [
      "Epoch 9/15:  60%|██████    | 3/5 [00:02<00:01,  1.26it/s, acc=89.6, loss=0.387]"
     ]
    },
    {
     "name": "stdout",
     "output_type": "stream",
     "text": [
      "torch.Size([32, 64, 21, 28])\n"
     ]
    },
    {
     "name": "stderr",
     "output_type": "stream",
     "text": [
      "Epoch 9/15: 100%|██████████| 5/5 [00:03<00:00,  1.39it/s, acc=87.1, loss=0.296]\n"
     ]
    },
    {
     "name": "stdout",
     "output_type": "stream",
     "text": [
      "torch.Size([4, 64, 21, 28])\n",
      "Epoch [9/15], Loss: 0.3074, Accuracy: 87.12%\n"
     ]
    },
    {
     "name": "stderr",
     "output_type": "stream",
     "text": [
      "Epoch 10/15:   0%|          | 0/5 [00:00<?, ?it/s]"
     ]
    },
    {
     "name": "stdout",
     "output_type": "stream",
     "text": [
      "torch.Size([32, 64, 21, 28])\n"
     ]
    },
    {
     "name": "stderr",
     "output_type": "stream",
     "text": [
      "Epoch 10/15:  20%|██        | 1/5 [00:00<00:03,  1.33it/s, acc=90.6, loss=0.189]"
     ]
    },
    {
     "name": "stdout",
     "output_type": "stream",
     "text": [
      "torch.Size([32, 64, 21, 28])\n"
     ]
    },
    {
     "name": "stderr",
     "output_type": "stream",
     "text": [
      "Epoch 10/15:  40%|████      | 2/5 [00:01<00:02,  1.21it/s, acc=89.1, loss=0.43] "
     ]
    },
    {
     "name": "stdout",
     "output_type": "stream",
     "text": [
      "torch.Size([32, 64, 21, 28])\n"
     ]
    },
    {
     "name": "stderr",
     "output_type": "stream",
     "text": [
      "Epoch 10/15:  60%|██████    | 3/5 [00:02<00:01,  1.19it/s, acc=91.7, loss=0.114]"
     ]
    },
    {
     "name": "stdout",
     "output_type": "stream",
     "text": [
      "torch.Size([32, 64, 21, 28])\n"
     ]
    },
    {
     "name": "stderr",
     "output_type": "stream",
     "text": [
      "Epoch 10/15: 100%|██████████| 5/5 [00:03<00:00,  1.43it/s, acc=90.2, loss=0.5]  \n"
     ]
    },
    {
     "name": "stdout",
     "output_type": "stream",
     "text": [
      "torch.Size([4, 64, 21, 28])\n",
      "Epoch [10/15], Loss: 0.2956, Accuracy: 90.15%\n"
     ]
    },
    {
     "name": "stderr",
     "output_type": "stream",
     "text": [
      "Epoch 11/15:   0%|          | 0/5 [00:00<?, ?it/s]"
     ]
    },
    {
     "name": "stdout",
     "output_type": "stream",
     "text": [
      "torch.Size([32, 64, 21, 28])\n"
     ]
    },
    {
     "name": "stderr",
     "output_type": "stream",
     "text": [
      "Epoch 11/15:  20%|██        | 1/5 [00:00<00:03,  1.07it/s, acc=90.6, loss=0.215]"
     ]
    },
    {
     "name": "stdout",
     "output_type": "stream",
     "text": [
      "torch.Size([32, 64, 21, 28])\n"
     ]
    },
    {
     "name": "stderr",
     "output_type": "stream",
     "text": [
      "Epoch 11/15:  40%|████      | 2/5 [00:01<00:02,  1.10it/s, acc=95.3, loss=0.0912]"
     ]
    },
    {
     "name": "stdout",
     "output_type": "stream",
     "text": [
      "torch.Size([32, 64, 21, 28])\n"
     ]
    },
    {
     "name": "stderr",
     "output_type": "stream",
     "text": [
      "Epoch 11/15:  60%|██████    | 3/5 [00:02<00:01,  1.18it/s, acc=95.8, loss=0.187] "
     ]
    },
    {
     "name": "stdout",
     "output_type": "stream",
     "text": [
      "torch.Size([32, 64, 21, 28])\n"
     ]
    },
    {
     "name": "stderr",
     "output_type": "stream",
     "text": [
      "Epoch 11/15: 100%|██████████| 5/5 [00:03<00:00,  1.34it/s, acc=96.2, loss=0.135]"
     ]
    },
    {
     "name": "stdout",
     "output_type": "stream",
     "text": [
      "torch.Size([4, 64, 21, 28])\n",
      "Epoch [11/15], Loss: 0.1561, Accuracy: 96.21%\n"
     ]
    },
    {
     "name": "stderr",
     "output_type": "stream",
     "text": [
      "\n"
     ]
    },
    {
     "name": "stdout",
     "output_type": "stream",
     "text": [
      "Model saved!\n"
     ]
    },
    {
     "name": "stderr",
     "output_type": "stream",
     "text": [
      "Epoch 12/15:   0%|          | 0/5 [00:00<?, ?it/s]"
     ]
    },
    {
     "name": "stdout",
     "output_type": "stream",
     "text": [
      "torch.Size([32, 64, 21, 28])\n"
     ]
    },
    {
     "name": "stderr",
     "output_type": "stream",
     "text": [
      "Epoch 12/15:  20%|██        | 1/5 [00:00<00:03,  1.24it/s, acc=96.9, loss=0.244]"
     ]
    },
    {
     "name": "stdout",
     "output_type": "stream",
     "text": [
      "torch.Size([32, 64, 21, 28])\n"
     ]
    },
    {
     "name": "stderr",
     "output_type": "stream",
     "text": [
      "Epoch 12/15:  40%|████      | 2/5 [00:01<00:02,  1.13it/s, acc=95.3, loss=0.161]"
     ]
    },
    {
     "name": "stdout",
     "output_type": "stream",
     "text": [
      "torch.Size([32, 64, 21, 28])\n"
     ]
    },
    {
     "name": "stderr",
     "output_type": "stream",
     "text": [
      "Epoch 12/15:  60%|██████    | 3/5 [00:02<00:01,  1.14it/s, acc=94.8, loss=0.148]"
     ]
    },
    {
     "name": "stdout",
     "output_type": "stream",
     "text": [
      "torch.Size([32, 64, 21, 28])\n"
     ]
    },
    {
     "name": "stderr",
     "output_type": "stream",
     "text": [
      "Epoch 12/15: 100%|██████████| 5/5 [00:03<00:00,  1.39it/s, acc=95.5, loss=0.081]\n"
     ]
    },
    {
     "name": "stdout",
     "output_type": "stream",
     "text": [
      "torch.Size([4, 64, 21, 28])\n",
      "Epoch [12/15], Loss: 0.1522, Accuracy: 95.45%\n"
     ]
    },
    {
     "name": "stderr",
     "output_type": "stream",
     "text": [
      "Epoch 13/15:   0%|          | 0/5 [00:00<?, ?it/s]"
     ]
    },
    {
     "name": "stdout",
     "output_type": "stream",
     "text": [
      "torch.Size([32, 64, 21, 28])\n"
     ]
    },
    {
     "name": "stderr",
     "output_type": "stream",
     "text": [
      "Epoch 13/15:  20%|██        | 1/5 [00:00<00:03,  1.28it/s, acc=93.8, loss=0.0935]"
     ]
    },
    {
     "name": "stdout",
     "output_type": "stream",
     "text": [
      "torch.Size([32, 64, 21, 28])\n"
     ]
    },
    {
     "name": "stderr",
     "output_type": "stream",
     "text": [
      "Epoch 13/15:  40%|████      | 2/5 [00:01<00:02,  1.31it/s, acc=95.3, loss=0.0671]"
     ]
    },
    {
     "name": "stdout",
     "output_type": "stream",
     "text": [
      "torch.Size([32, 64, 21, 28])\n"
     ]
    },
    {
     "name": "stderr",
     "output_type": "stream",
     "text": [
      "Epoch 13/15:  60%|██████    | 3/5 [00:02<00:01,  1.23it/s, acc=93.8, loss=0.132] "
     ]
    },
    {
     "name": "stdout",
     "output_type": "stream",
     "text": [
      "torch.Size([32, 64, 21, 28])\n"
     ]
    },
    {
     "name": "stderr",
     "output_type": "stream",
     "text": [
      "Epoch 13/15: 100%|██████████| 5/5 [00:03<00:00,  1.45it/s, acc=93.9, loss=0.0168]\n"
     ]
    },
    {
     "name": "stdout",
     "output_type": "stream",
     "text": [
      "torch.Size([4, 64, 21, 28])\n",
      "Epoch [13/15], Loss: 0.1092, Accuracy: 93.94%\n"
     ]
    },
    {
     "name": "stderr",
     "output_type": "stream",
     "text": [
      "Epoch 14/15:   0%|          | 0/5 [00:00<?, ?it/s]"
     ]
    },
    {
     "name": "stdout",
     "output_type": "stream",
     "text": [
      "torch.Size([32, 64, 21, 28])\n"
     ]
    },
    {
     "name": "stderr",
     "output_type": "stream",
     "text": [
      "Epoch 14/15:  20%|██        | 1/5 [00:00<00:03,  1.15it/s, acc=90.6, loss=0.175]"
     ]
    },
    {
     "name": "stdout",
     "output_type": "stream",
     "text": [
      "torch.Size([32, 64, 21, 28])\n"
     ]
    },
    {
     "name": "stderr",
     "output_type": "stream",
     "text": [
      "Epoch 14/15:  40%|████      | 2/5 [00:01<00:02,  1.21it/s, acc=93.8, loss=0.12] "
     ]
    },
    {
     "name": "stdout",
     "output_type": "stream",
     "text": [
      "torch.Size([32, 64, 21, 28])\n"
     ]
    },
    {
     "name": "stderr",
     "output_type": "stream",
     "text": [
      "Epoch 14/15:  60%|██████    | 3/5 [00:02<00:01,  1.24it/s, acc=95.8, loss=0.0134]"
     ]
    },
    {
     "name": "stdout",
     "output_type": "stream",
     "text": [
      "torch.Size([32, 64, 21, 28])\n"
     ]
    },
    {
     "name": "stderr",
     "output_type": "stream",
     "text": [
      "Epoch 14/15: 100%|██████████| 5/5 [00:03<00:00,  1.42it/s, acc=96.2, loss=0.00673]\n"
     ]
    },
    {
     "name": "stdout",
     "output_type": "stream",
     "text": [
      "torch.Size([4, 64, 21, 28])\n",
      "Epoch [14/15], Loss: 0.0794, Accuracy: 96.21%\n"
     ]
    },
    {
     "name": "stderr",
     "output_type": "stream",
     "text": [
      "Epoch 15/15:   0%|          | 0/5 [00:00<?, ?it/s]"
     ]
    },
    {
     "name": "stdout",
     "output_type": "stream",
     "text": [
      "torch.Size([32, 64, 21, 28])\n"
     ]
    },
    {
     "name": "stderr",
     "output_type": "stream",
     "text": [
      "Epoch 15/15:  20%|██        | 1/5 [00:00<00:03,  1.28it/s, acc=96.9, loss=0.0587]"
     ]
    },
    {
     "name": "stdout",
     "output_type": "stream",
     "text": [
      "torch.Size([32, 64, 21, 28])\n"
     ]
    },
    {
     "name": "stderr",
     "output_type": "stream",
     "text": [
      "Epoch 15/15:  40%|████      | 2/5 [00:01<00:02,  1.22it/s, acc=96.9, loss=0.0488]"
     ]
    },
    {
     "name": "stdout",
     "output_type": "stream",
     "text": [
      "torch.Size([32, 64, 21, 28])\n"
     ]
    },
    {
     "name": "stderr",
     "output_type": "stream",
     "text": [
      "Epoch 15/15:  60%|██████    | 3/5 [00:02<00:01,  1.18it/s, acc=96.9, loss=0.126] "
     ]
    },
    {
     "name": "stdout",
     "output_type": "stream",
     "text": [
      "torch.Size([32, 64, 21, 28])\n"
     ]
    },
    {
     "name": "stderr",
     "output_type": "stream",
     "text": [
      "Epoch 15/15: 100%|██████████| 5/5 [00:03<00:00,  1.39it/s, acc=97, loss=0.00119] "
     ]
    },
    {
     "name": "stdout",
     "output_type": "stream",
     "text": [
      "torch.Size([4, 64, 21, 28])\n",
      "Epoch [15/15], Loss: 0.0629, Accuracy: 96.97%\n"
     ]
    },
    {
     "name": "stderr",
     "output_type": "stream",
     "text": [
      "\n"
     ]
    },
    {
     "name": "stdout",
     "output_type": "stream",
     "text": [
      "Model saved!\n",
      "torch.Size([32, 64, 21, 28])\n",
      "torch.Size([1, 64, 21, 28])\n",
      "\n",
      "📊 Test Loss: 0.3793, Test Accuracy: 84.85%\n"
     ]
    }
   ],
   "source": [
    "# Initialize model\n",
    "num_classes = len(full_dataset.class_to_idx)  \n",
    "model = SimpleCNN(num_classes)\n",
    "\n",
    "# Train and Evaluate\n",
    "model.train_model(train_loader, num_epochs=15, lr=0.001)\n",
    "model.evaluate_model(test_loader)"
   ]
  },
  {
   "cell_type": "markdown",
   "metadata": {},
   "source": [
    "# Let's try again but augumenting data "
   ]
  },
  {
   "cell_type": "code",
   "execution_count": 74,
   "metadata": {},
   "outputs": [],
   "source": [
    "import os\n",
    "import cv2\n",
    "import numpy as np\n",
    "import random\n",
    "from pathlib import Path\n",
    "\n",
    "def random_rotate(image: np.ndarray,\n",
    "                  min_angle: float,\n",
    "                  max_angle: float) -> np.ndarray:\n",
    "    \"\"\"\n",
    "    Randomly rotates the grayscale image by an angle between [min_angle, max_angle].\n",
    "    Fills blank regions with white (255).\n",
    "    \"\"\"\n",
    "    (height, width) = image.shape[:2] if image.ndim == 3 else image.shape\n",
    "    angle = random.uniform(min_angle, max_angle)\n",
    "    center = (width // 2, height // 2)\n",
    "    \n",
    "    M = cv2.getRotationMatrix2D(center, angle, 1.0)\n",
    "    rotated_image = cv2.warpAffine(\n",
    "        image, M, (width, height),\n",
    "        flags=cv2.INTER_LINEAR,\n",
    "        borderMode=cv2.BORDER_CONSTANT,\n",
    "        borderValue=255  # White for a single-channel (grayscale) image\n",
    "    )\n",
    "    return rotated_image\n",
    "\n",
    "def random_perspective(image: np.ndarray,\n",
    "                       min_shift: float,\n",
    "                       max_shift: float) -> np.ndarray:\n",
    "    \"\"\"\n",
    "    Applies a random perspective transform in grayscale. Each corner can shift by\n",
    "    a value in [min_shift, max_shift] in both x and y directions.\n",
    "    Fills blank regions with white (255).\n",
    "    \"\"\"\n",
    "    (height, width) = image.shape[:2] if image.ndim == 3 else image.shape\n",
    "\n",
    "    src_pts = np.float32([\n",
    "        [0,      0],\n",
    "        [width,  0],\n",
    "        [width,  height],\n",
    "        [0,      height]\n",
    "    ])\n",
    "    \n",
    "    dst_pts = []\n",
    "    for (x, y) in src_pts:\n",
    "        shift_x = random.uniform(min_shift, max_shift)\n",
    "        shift_y = random.uniform(min_shift, max_shift)\n",
    "        dst_pts.append([x + shift_x, y + shift_y])\n",
    "    \n",
    "    dst_pts = np.float32(dst_pts)\n",
    "    M = cv2.getPerspectiveTransform(src_pts, dst_pts)\n",
    "    \n",
    "    warped_image = cv2.warpPerspective(\n",
    "        image, M, (width, height),\n",
    "        flags=cv2.INTER_LINEAR,\n",
    "        borderMode=cv2.BORDER_CONSTANT,\n",
    "        borderValue=255  # White for a single-channel (grayscale) image\n",
    "    )\n",
    "    return warped_image\n",
    "\n",
    "def generate_augmented_images(image: np.ndarray,\n",
    "                              min_angle: float,\n",
    "                              max_angle: float,\n",
    "                              min_perspective_shift: float,\n",
    "                              max_perspective_shift: float,\n",
    "                              num_images: int = 5) -> list:\n",
    "    \"\"\"\n",
    "    Given a grayscale image (np.ndarray), returns a list of 'num_images' augmented images.\n",
    "    Each augmented image is generated by randomly applying BOTH:\n",
    "      - rotation (angle in [min_angle, max_angle])\n",
    "      - perspective shift in [min_perspective_shift, max_perspective_shift]\n",
    "    \"\"\"\n",
    "    augmented_images = []\n",
    "    for _ in range(num_images):\n",
    "        # Random rotation\n",
    "        rotated = random_rotate(image, min_angle, max_angle)\n",
    "        # Random perspective transform\n",
    "        warped = random_perspective(rotated, min_perspective_shift, max_perspective_shift)\n",
    "        augmented_images.append(warped)\n",
    "    return augmented_images\n",
    "\n",
    "def augment_dataset(root_folder: str,\n",
    "                    min_angle=-30, max_angle=30,\n",
    "                    min_shift=-20, max_shift=20,\n",
    "                    num_augmented=10):\n",
    "    \"\"\"\n",
    "    Walks through root_folder (recursively), and for each image found,\n",
    "    generates 'num_augmented' new images, saved in the same folder (grayscale).\n",
    "    Naming convention:\n",
    "        originalname_augment_1.ext, originalname_augment_2.ext, ...\n",
    "    Supported image extensions can be changed as needed.\n",
    "    \"\"\"\n",
    "    \n",
    "    # Define which file extensions to consider images\n",
    "    valid_extensions = {\".png\", \".jpg\", \".jpeg\", \".bmp\", \".tiff\"}\n",
    "    \n",
    "    for dirpath, dirnames, filenames in os.walk(root_folder):\n",
    "        for filename in filenames:\n",
    "            ext = os.path.splitext(filename)[1].lower()\n",
    "            if ext in valid_extensions:\n",
    "                # Construct the full path\n",
    "                image_path = os.path.join(dirpath, filename)\n",
    "                \n",
    "                # Read the image in grayscale\n",
    "                image_gray = cv2.imread(image_path, cv2.IMREAD_GRAYSCALE)\n",
    "                if image_gray is None:\n",
    "                    print(f\"Warning: Could not read {image_path}\")\n",
    "                    continue\n",
    "                \n",
    "                # Generate augmented images (grayscale in, grayscale out)\n",
    "                augmented_images = generate_augmented_images(\n",
    "                    image=image_gray,\n",
    "                    min_angle=min_angle,\n",
    "                    max_angle=max_angle,\n",
    "                    min_perspective_shift=min_shift,\n",
    "                    max_perspective_shift=max_shift,\n",
    "                    num_images=num_augmented\n",
    "                )\n",
    "                \n",
    "                # Save each augmented image\n",
    "                original_name, ext_ = os.path.splitext(filename)\n",
    "                for i, aug_img_gray in enumerate(augmented_images, start=1):\n",
    "                    # Example naming: originalName_augment_1.jpg\n",
    "                    new_filename = f\"{original_name}_augment_{i}{ext_}\"\n",
    "                    new_filepath = os.path.join(dirpath, new_filename)\n",
    "                    \n",
    "                    # Save as grayscale\n",
    "                    cv2.imwrite(new_filepath, aug_img_gray)\n",
    "                    \n",
    "                print(f\"Augmented {filename} -> created {num_augmented} new images.\")\n"
   ]
  },
  {
   "cell_type": "code",
   "execution_count": 76,
   "metadata": {},
   "outputs": [
    {
     "name": "stdout",
     "output_type": "stream",
     "text": [
      "Augmented doc_000042.png -> created 2 new images.\n",
      "Augmented doc_000046.png -> created 2 new images.\n",
      "Augmented doc_000076.png -> created 2 new images.\n",
      "Augmented doc_000079.png -> created 2 new images.\n",
      "Augmented doc_000111.png -> created 2 new images.\n",
      "Augmented doc_000115.png -> created 2 new images.\n",
      "Augmented doc_000133.png -> created 2 new images.\n",
      "Augmented doc_000142.png -> created 2 new images.\n",
      "Augmented doc_000148.png -> created 2 new images.\n",
      "Augmented doc_000165.png -> created 2 new images.\n",
      "Augmented doc_000195.png -> created 2 new images.\n",
      "Augmented doc_000196.png -> created 2 new images.\n",
      "Augmented doc_000238.png -> created 2 new images.\n",
      "Augmented doc_000255.png -> created 2 new images.\n",
      "Augmented doc_000260.png -> created 2 new images.\n",
      "Augmented doc_000275.png -> created 2 new images.\n",
      "Augmented doc_000278.png -> created 2 new images.\n",
      "Augmented doc_000279.png -> created 2 new images.\n",
      "Augmented doc_000282.png -> created 2 new images.\n",
      "Augmented doc_000297.png -> created 2 new images.\n",
      "Augmented doc_000333.png -> created 2 new images.\n",
      "Augmented doc_000347.png -> created 2 new images.\n",
      "Augmented doc_000363.png -> created 2 new images.\n",
      "Augmented doc_000448.png -> created 2 new images.\n",
      "Augmented doc_000464.png -> created 2 new images.\n",
      "Augmented doc_000465.png -> created 2 new images.\n",
      "Augmented doc_000471.png -> created 2 new images.\n",
      "Augmented doc_000483.png -> created 2 new images.\n",
      "Augmented doc_000485.png -> created 2 new images.\n",
      "Augmented doc_000507.png -> created 2 new images.\n",
      "Augmented doc_000511.png -> created 2 new images.\n",
      "Augmented doc_000528.png -> created 2 new images.\n",
      "Augmented doc_000532.png -> created 2 new images.\n",
      "Augmented doc_000550.png -> created 2 new images.\n",
      "Augmented doc_000558.png -> created 2 new images.\n",
      "Augmented doc_000577.png -> created 2 new images.\n",
      "Augmented doc_000586.png -> created 2 new images.\n",
      "Augmented doc_000591.png -> created 2 new images.\n",
      "Augmented doc_000596.png -> created 2 new images.\n",
      "Augmented doc_000612.png -> created 2 new images.\n",
      "Augmented doc_000637.png -> created 2 new images.\n",
      "Augmented doc_000650.png -> created 2 new images.\n",
      "Augmented doc_000655.png -> created 2 new images.\n",
      "Augmented doc_000675.png -> created 2 new images.\n",
      "Augmented doc_000694.png -> created 2 new images.\n",
      "Augmented doc_000745.png -> created 2 new images.\n",
      "Augmented doc_000750.png -> created 2 new images.\n",
      "Augmented doc_000784.png -> created 2 new images.\n",
      "Augmented doc_000787.png -> created 2 new images.\n",
      "Augmented doc_000796.png -> created 2 new images.\n",
      "Augmented doc_000825.png -> created 2 new images.\n",
      "Augmented doc_000840.png -> created 2 new images.\n",
      "Augmented doc_000862.png -> created 2 new images.\n",
      "Augmented doc_000872.png -> created 2 new images.\n",
      "Augmented doc_000873.png -> created 2 new images.\n",
      "Augmented doc_000051.png -> created 2 new images.\n",
      "Augmented doc_000070.png -> created 2 new images.\n",
      "Augmented doc_000072.png -> created 2 new images.\n",
      "Augmented doc_000080.png -> created 2 new images.\n",
      "Augmented doc_000088.png -> created 2 new images.\n",
      "Augmented doc_000091.png -> created 2 new images.\n",
      "Augmented doc_000097.png -> created 2 new images.\n",
      "Augmented doc_000101.png -> created 2 new images.\n",
      "Augmented doc_000109.png -> created 2 new images.\n",
      "Augmented doc_000169.png -> created 2 new images.\n",
      "Augmented doc_000173.png -> created 2 new images.\n",
      "Augmented doc_000175.png -> created 2 new images.\n",
      "Augmented doc_000191.png -> created 2 new images.\n",
      "Augmented doc_000223.png -> created 2 new images.\n",
      "Augmented doc_000248.png -> created 2 new images.\n",
      "Augmented doc_000264.png -> created 2 new images.\n",
      "Augmented doc_000281.png -> created 2 new images.\n",
      "Augmented doc_000286.png -> created 2 new images.\n",
      "Augmented doc_000294.png -> created 2 new images.\n",
      "Augmented doc_000301.png -> created 2 new images.\n",
      "Augmented doc_000344.png -> created 2 new images.\n",
      "Augmented doc_000353.png -> created 2 new images.\n",
      "Augmented doc_000361.png -> created 2 new images.\n",
      "Augmented doc_000369.png -> created 2 new images.\n",
      "Augmented doc_000375.png -> created 2 new images.\n",
      "Augmented doc_000377.png -> created 2 new images.\n",
      "Augmented doc_000402.png -> created 2 new images.\n",
      "Augmented doc_000411.png -> created 2 new images.\n",
      "Augmented doc_000441.png -> created 2 new images.\n",
      "Augmented doc_000443.png -> created 2 new images.\n",
      "Augmented doc_000447.png -> created 2 new images.\n",
      "Augmented doc_000450.png -> created 2 new images.\n",
      "Augmented doc_000460.png -> created 2 new images.\n",
      "Augmented doc_000468.png -> created 2 new images.\n",
      "Augmented doc_000473.png -> created 2 new images.\n",
      "Augmented doc_000476.png -> created 2 new images.\n",
      "Augmented doc_000499.png -> created 2 new images.\n",
      "Augmented doc_000501.png -> created 2 new images.\n",
      "Augmented doc_000543.png -> created 2 new images.\n",
      "Augmented doc_000551.png -> created 2 new images.\n",
      "Augmented doc_000575.png -> created 2 new images.\n",
      "Augmented doc_000609.png -> created 2 new images.\n",
      "Augmented doc_000629.png -> created 2 new images.\n",
      "Augmented doc_000636.png -> created 2 new images.\n",
      "Augmented doc_000639.png -> created 2 new images.\n",
      "Augmented doc_000674.png -> created 2 new images.\n",
      "Augmented doc_000727.png -> created 2 new images.\n",
      "Augmented doc_000734.png -> created 2 new images.\n",
      "Augmented doc_000752.png -> created 2 new images.\n",
      "Augmented doc_000760.png -> created 2 new images.\n",
      "Augmented doc_000763.png -> created 2 new images.\n",
      "Augmented doc_000802.png -> created 2 new images.\n",
      "Augmented doc_000809.png -> created 2 new images.\n",
      "Augmented doc_000824.png -> created 2 new images.\n",
      "Augmented doc_000847.png -> created 2 new images.\n",
      "Augmented doc_000016.png -> created 2 new images.\n",
      "Augmented doc_000045.png -> created 2 new images.\n",
      "Augmented doc_000050.png -> created 2 new images.\n",
      "Augmented doc_000061.png -> created 2 new images.\n",
      "Augmented doc_000089.png -> created 2 new images.\n",
      "Augmented doc_000121.png -> created 2 new images.\n",
      "Augmented doc_000128.png -> created 2 new images.\n",
      "Augmented doc_000130.png -> created 2 new images.\n",
      "Augmented doc_000171.png -> created 2 new images.\n",
      "Augmented doc_000228.png -> created 2 new images.\n",
      "Augmented doc_000235.png -> created 2 new images.\n",
      "Augmented doc_000240.png -> created 2 new images.\n",
      "Augmented doc_000250.png -> created 2 new images.\n",
      "Augmented doc_000285.png -> created 2 new images.\n",
      "Augmented doc_000298.png -> created 2 new images.\n",
      "Augmented doc_000309.png -> created 2 new images.\n",
      "Augmented doc_000311.png -> created 2 new images.\n",
      "Augmented doc_000334.png -> created 2 new images.\n",
      "Augmented doc_000345.png -> created 2 new images.\n",
      "Augmented doc_000349.png -> created 2 new images.\n",
      "Augmented doc_000392.png -> created 2 new images.\n",
      "Augmented doc_000429.png -> created 2 new images.\n",
      "Augmented doc_000437.png -> created 2 new images.\n",
      "Augmented doc_000438.png -> created 2 new images.\n",
      "Augmented doc_000445.png -> created 2 new images.\n",
      "Augmented doc_000451.png -> created 2 new images.\n",
      "Augmented doc_000453.png -> created 2 new images.\n",
      "Augmented doc_000480.png -> created 2 new images.\n",
      "Augmented doc_000498.png -> created 2 new images.\n",
      "Augmented doc_000509.png -> created 2 new images.\n",
      "Augmented doc_000513.png -> created 2 new images.\n",
      "Augmented doc_000515.png -> created 2 new images.\n",
      "Augmented doc_000522.png -> created 2 new images.\n",
      "Augmented doc_000530.png -> created 2 new images.\n",
      "Augmented doc_000534.png -> created 2 new images.\n",
      "Augmented doc_000584.png -> created 2 new images.\n",
      "Augmented doc_000594.png -> created 2 new images.\n",
      "Augmented doc_000615.png -> created 2 new images.\n",
      "Augmented doc_000617.png -> created 2 new images.\n",
      "Augmented doc_000697.png -> created 2 new images.\n",
      "Augmented doc_000698.png -> created 2 new images.\n",
      "Augmented doc_000741.png -> created 2 new images.\n",
      "Augmented doc_000756.png -> created 2 new images.\n",
      "Augmented doc_000766.png -> created 2 new images.\n",
      "Augmented doc_000767.png -> created 2 new images.\n",
      "Augmented doc_000769.png -> created 2 new images.\n",
      "Augmented doc_000779.png -> created 2 new images.\n",
      "Augmented doc_000785.png -> created 2 new images.\n",
      "Augmented doc_000821.png -> created 2 new images.\n",
      "Augmented doc_000832.png -> created 2 new images.\n",
      "Augmented doc_000845.png -> created 2 new images.\n",
      "Augmented doc_000864.png -> created 2 new images.\n",
      "Augmented doc_000891.png -> created 2 new images.\n",
      "Augmented doc_000942.png -> created 2 new images.\n",
      "Augmented doc_000950.png -> created 2 new images.\n"
     ]
    }
   ],
   "source": [
    "folder_to_augment = r\"document_classification\\document_classification\\email\"\n",
    "augment_dataset(root_folder=folder_to_augment,\n",
    "            min_angle=-30, max_angle=30,\n",
    "            min_shift=-20, max_shift=20,\n",
    "            num_augmented=2)\n",
    "\n",
    "folder_to_augment = r\"document_classification\\document_classification\\resume\"\n",
    "augment_dataset(root_folder=folder_to_augment,\n",
    "            min_angle=-30, max_angle=30,\n",
    "            min_shift=-20, max_shift=20,\n",
    "            num_augmented=2)\n",
    "\n",
    "folder_to_augment = r\"document_classification\\document_classification\\scientific_publication\"\n",
    "augment_dataset(root_folder=folder_to_augment,\n",
    "            min_angle=-30, max_angle=30,\n",
    "            min_shift=-20, max_shift=20,\n",
    "            num_augmented=2)"
   ]
  },
  {
   "cell_type": "code",
   "execution_count": 78,
   "metadata": {},
   "outputs": [
    {
     "name": "stdout",
     "output_type": "stream",
     "text": [
      "Classes: {'email': 0, 'resume': 1, 'scientific_publication': 2}\n",
      "Total images: 495, Train: 396, Test: 99\n"
     ]
    }
   ],
   "source": [
    "dataset_path = r'document_classification\\document_classification'\n",
    "\n",
    "full_dataset = CustomImageDataset(root_dir=dataset_path, transform=transform)\n",
    "\n",
    "# Split into train (80%) and test (20%)\n",
    "train_size = int(0.8 * len(full_dataset))\n",
    "test_size = len(full_dataset) - train_size\n",
    "train_dataset, test_dataset = random_split(full_dataset, [train_size, test_size])\n",
    "\n",
    "# Create DataLoaders\n",
    "train_loader = DataLoader(train_dataset, batch_size=32, shuffle=True, num_workers=0)\n",
    "test_loader = DataLoader(test_dataset, batch_size=32, shuffle=False, num_workers=0)\n",
    "\n",
    "# Check dataset structure\n",
    "print(f\"Classes: {full_dataset.class_to_idx}\")\n",
    "print(f\"Total images: {len(full_dataset)}, Train: {len(train_dataset)}, Test: {len(test_dataset)}\")"
   ]
  },
  {
   "cell_type": "code",
   "execution_count": 79,
   "metadata": {},
   "outputs": [
    {
     "name": "stderr",
     "output_type": "stream",
     "text": [
      "Epoch 1/15:   0%|          | 0/13 [00:00<?, ?it/s]"
     ]
    },
    {
     "name": "stdout",
     "output_type": "stream",
     "text": [
      "torch.Size([32, 64, 21, 28])\n"
     ]
    },
    {
     "name": "stderr",
     "output_type": "stream",
     "text": [
      "Epoch 1/15:   8%|▊         | 1/13 [00:01<00:12,  1.06s/it, acc=81.2, loss=1.11]"
     ]
    },
    {
     "name": "stdout",
     "output_type": "stream",
     "text": [
      "torch.Size([32, 64, 21, 28])\n"
     ]
    },
    {
     "name": "stderr",
     "output_type": "stream",
     "text": [
      "Epoch 1/15:  15%|█▌        | 2/13 [00:02<00:11,  1.02s/it, acc=81.2, loss=1.31]"
     ]
    },
    {
     "name": "stdout",
     "output_type": "stream",
     "text": [
      "torch.Size([32, 64, 21, 28])\n"
     ]
    },
    {
     "name": "stderr",
     "output_type": "stream",
     "text": [
      "Epoch 1/15:  23%|██▎       | 3/13 [00:02<00:09,  1.02it/s, acc=81.2, loss=0.781]"
     ]
    },
    {
     "name": "stdout",
     "output_type": "stream",
     "text": [
      "torch.Size([32, 64, 21, 28])\n"
     ]
    },
    {
     "name": "stderr",
     "output_type": "stream",
     "text": [
      "Epoch 1/15:  31%|███       | 4/13 [00:03<00:08,  1.01it/s, acc=83.6, loss=0.313]"
     ]
    },
    {
     "name": "stdout",
     "output_type": "stream",
     "text": [
      "torch.Size([32, 64, 21, 28])\n"
     ]
    },
    {
     "name": "stderr",
     "output_type": "stream",
     "text": [
      "Epoch 1/15:  38%|███▊      | 5/13 [00:04<00:07,  1.02it/s, acc=82.5, loss=0.578]"
     ]
    },
    {
     "name": "stdout",
     "output_type": "stream",
     "text": [
      "torch.Size([32, 64, 21, 28])\n"
     ]
    },
    {
     "name": "stderr",
     "output_type": "stream",
     "text": [
      "Epoch 1/15:  46%|████▌     | 6/13 [00:05<00:06,  1.03it/s, acc=83.3, loss=0.346]"
     ]
    },
    {
     "name": "stdout",
     "output_type": "stream",
     "text": [
      "torch.Size([32, 64, 21, 28])\n"
     ]
    },
    {
     "name": "stderr",
     "output_type": "stream",
     "text": [
      "Epoch 1/15:  54%|█████▍    | 7/13 [00:06<00:05,  1.03it/s, acc=83, loss=0.581]  "
     ]
    },
    {
     "name": "stdout",
     "output_type": "stream",
     "text": [
      "torch.Size([32, 64, 21, 28])\n"
     ]
    },
    {
     "name": "stderr",
     "output_type": "stream",
     "text": [
      "Epoch 1/15:  62%|██████▏   | 8/13 [00:07<00:05,  1.01s/it, acc=84, loss=0.723]"
     ]
    },
    {
     "name": "stdout",
     "output_type": "stream",
     "text": [
      "torch.Size([32, 64, 21, 28])\n"
     ]
    },
    {
     "name": "stderr",
     "output_type": "stream",
     "text": [
      "Epoch 1/15:  69%|██████▉   | 9/13 [00:08<00:03,  1.00it/s, acc=84.4, loss=0.536]"
     ]
    },
    {
     "name": "stdout",
     "output_type": "stream",
     "text": [
      "torch.Size([32, 64, 21, 28])\n"
     ]
    },
    {
     "name": "stderr",
     "output_type": "stream",
     "text": [
      "Epoch 1/15:  77%|███████▋  | 10/13 [00:09<00:03,  1.01s/it, acc=84.4, loss=0.372]"
     ]
    },
    {
     "name": "stdout",
     "output_type": "stream",
     "text": [
      "torch.Size([32, 64, 21, 28])\n"
     ]
    },
    {
     "name": "stderr",
     "output_type": "stream",
     "text": [
      "Epoch 1/15:  85%|████████▍ | 11/13 [00:11<00:02,  1.03s/it, acc=84.1, loss=0.407]"
     ]
    },
    {
     "name": "stdout",
     "output_type": "stream",
     "text": [
      "torch.Size([32, 64, 21, 28])\n"
     ]
    },
    {
     "name": "stderr",
     "output_type": "stream",
     "text": [
      "Epoch 1/15:  92%|█████████▏| 12/13 [00:12<00:01,  1.05s/it, acc=84.9, loss=0.3]  "
     ]
    },
    {
     "name": "stdout",
     "output_type": "stream",
     "text": [
      "torch.Size([12, 64, 21, 28])\n"
     ]
    },
    {
     "name": "stderr",
     "output_type": "stream",
     "text": [
      "Epoch 1/15: 100%|██████████| 13/13 [00:12<00:00,  1.03it/s, acc=85.1, loss=0.388]\n"
     ]
    },
    {
     "name": "stdout",
     "output_type": "stream",
     "text": [
      "Epoch [1/15], Loss: 0.5957, Accuracy: 85.10%\n",
      "Model saved!\n"
     ]
    },
    {
     "name": "stderr",
     "output_type": "stream",
     "text": [
      "Epoch 2/15:   0%|          | 0/13 [00:00<?, ?it/s]"
     ]
    },
    {
     "name": "stdout",
     "output_type": "stream",
     "text": [
      "torch.Size([32, 64, 21, 28])\n"
     ]
    },
    {
     "name": "stderr",
     "output_type": "stream",
     "text": [
      "Epoch 2/15:   8%|▊         | 1/13 [00:00<00:10,  1.18it/s, acc=90.6, loss=0.47]"
     ]
    },
    {
     "name": "stdout",
     "output_type": "stream",
     "text": [
      "torch.Size([32, 64, 21, 28])\n"
     ]
    },
    {
     "name": "stderr",
     "output_type": "stream",
     "text": [
      "Epoch 2/15:  15%|█▌        | 2/13 [00:01<00:09,  1.12it/s, acc=90.6, loss=0.363]"
     ]
    },
    {
     "name": "stdout",
     "output_type": "stream",
     "text": [
      "torch.Size([32, 64, 21, 28])\n"
     ]
    },
    {
     "name": "stderr",
     "output_type": "stream",
     "text": [
      "Epoch 2/15:  23%|██▎       | 3/13 [00:02<00:08,  1.19it/s, acc=87.5, loss=0.467]"
     ]
    },
    {
     "name": "stdout",
     "output_type": "stream",
     "text": [
      "torch.Size([32, 64, 21, 28])\n"
     ]
    },
    {
     "name": "stderr",
     "output_type": "stream",
     "text": [
      "Epoch 2/15:  31%|███       | 4/13 [00:03<00:07,  1.22it/s, acc=85.9, loss=0.469]"
     ]
    },
    {
     "name": "stdout",
     "output_type": "stream",
     "text": [
      "torch.Size([32, 64, 21, 28])\n"
     ]
    },
    {
     "name": "stderr",
     "output_type": "stream",
     "text": [
      "Epoch 2/15:  38%|███▊      | 5/13 [00:04<00:06,  1.22it/s, acc=85.6, loss=0.436]"
     ]
    },
    {
     "name": "stdout",
     "output_type": "stream",
     "text": [
      "torch.Size([32, 64, 21, 28])\n"
     ]
    },
    {
     "name": "stderr",
     "output_type": "stream",
     "text": [
      "Epoch 2/15:  46%|████▌     | 6/13 [00:04<00:05,  1.22it/s, acc=85.9, loss=0.354]"
     ]
    },
    {
     "name": "stdout",
     "output_type": "stream",
     "text": [
      "torch.Size([32, 64, 21, 28])\n"
     ]
    },
    {
     "name": "stderr",
     "output_type": "stream",
     "text": [
      "Epoch 2/15:  54%|█████▍    | 7/13 [00:05<00:04,  1.24it/s, acc=84.8, loss=0.491]"
     ]
    },
    {
     "name": "stdout",
     "output_type": "stream",
     "text": [
      "torch.Size([32, 64, 21, 28])\n"
     ]
    },
    {
     "name": "stderr",
     "output_type": "stream",
     "text": [
      "Epoch 2/15:  62%|██████▏   | 8/13 [00:06<00:04,  1.24it/s, acc=86.3, loss=0.231]"
     ]
    },
    {
     "name": "stdout",
     "output_type": "stream",
     "text": [
      "torch.Size([32, 64, 21, 28])\n"
     ]
    },
    {
     "name": "stderr",
     "output_type": "stream",
     "text": [
      "Epoch 2/15:  69%|██████▉   | 9/13 [00:07<00:03,  1.22it/s, acc=85.8, loss=0.341]"
     ]
    },
    {
     "name": "stdout",
     "output_type": "stream",
     "text": [
      "torch.Size([32, 64, 21, 28])\n"
     ]
    },
    {
     "name": "stderr",
     "output_type": "stream",
     "text": [
      "Epoch 2/15:  77%|███████▋  | 10/13 [00:08<00:02,  1.23it/s, acc=86.2, loss=0.218]"
     ]
    },
    {
     "name": "stdout",
     "output_type": "stream",
     "text": [
      "torch.Size([32, 64, 21, 28])\n"
     ]
    },
    {
     "name": "stderr",
     "output_type": "stream",
     "text": [
      "Epoch 2/15:  85%|████████▍ | 11/13 [00:09<00:01,  1.24it/s, acc=86.6, loss=0.321]"
     ]
    },
    {
     "name": "stdout",
     "output_type": "stream",
     "text": [
      "torch.Size([32, 64, 21, 28])\n"
     ]
    },
    {
     "name": "stderr",
     "output_type": "stream",
     "text": [
      "Epoch 2/15:  92%|█████████▏| 12/13 [00:09<00:00,  1.25it/s, acc=87.5, loss=0.178]"
     ]
    },
    {
     "name": "stdout",
     "output_type": "stream",
     "text": [
      "torch.Size([12, 64, 21, 28])\n"
     ]
    },
    {
     "name": "stderr",
     "output_type": "stream",
     "text": [
      "Epoch 2/15: 100%|██████████| 13/13 [00:10<00:00,  1.27it/s, acc=87.4, loss=0.292]\n"
     ]
    },
    {
     "name": "stdout",
     "output_type": "stream",
     "text": [
      "Epoch [2/15], Loss: 0.3562, Accuracy: 87.37%\n",
      "Model saved!\n"
     ]
    },
    {
     "name": "stderr",
     "output_type": "stream",
     "text": [
      "Epoch 3/15:   0%|          | 0/13 [00:00<?, ?it/s]"
     ]
    },
    {
     "name": "stdout",
     "output_type": "stream",
     "text": [
      "torch.Size([32, 64, 21, 28])\n"
     ]
    },
    {
     "name": "stderr",
     "output_type": "stream",
     "text": [
      "Epoch 3/15:   8%|▊         | 1/13 [00:00<00:09,  1.27it/s, acc=93.8, loss=0.154]"
     ]
    },
    {
     "name": "stdout",
     "output_type": "stream",
     "text": [
      "torch.Size([32, 64, 21, 28])\n"
     ]
    },
    {
     "name": "stderr",
     "output_type": "stream",
     "text": [
      "Epoch 3/15:  15%|█▌        | 2/13 [00:01<00:09,  1.12it/s, acc=92.2, loss=0.281]"
     ]
    },
    {
     "name": "stdout",
     "output_type": "stream",
     "text": [
      "torch.Size([32, 64, 21, 28])\n"
     ]
    },
    {
     "name": "stderr",
     "output_type": "stream",
     "text": [
      "Epoch 3/15:  23%|██▎       | 3/13 [00:02<00:08,  1.15it/s, acc=93.8, loss=0.121]"
     ]
    },
    {
     "name": "stdout",
     "output_type": "stream",
     "text": [
      "torch.Size([32, 64, 21, 28])\n"
     ]
    },
    {
     "name": "stderr",
     "output_type": "stream",
     "text": [
      "Epoch 3/15:  31%|███       | 4/13 [00:03<00:07,  1.19it/s, acc=90.6, loss=0.356]"
     ]
    },
    {
     "name": "stdout",
     "output_type": "stream",
     "text": [
      "torch.Size([32, 64, 21, 28])\n"
     ]
    },
    {
     "name": "stderr",
     "output_type": "stream",
     "text": [
      "Epoch 3/15:  38%|███▊      | 5/13 [00:04<00:06,  1.21it/s, acc=90, loss=0.22]   "
     ]
    },
    {
     "name": "stdout",
     "output_type": "stream",
     "text": [
      "torch.Size([32, 64, 21, 28])\n"
     ]
    },
    {
     "name": "stderr",
     "output_type": "stream",
     "text": [
      "Epoch 3/15:  46%|████▌     | 6/13 [00:05<00:05,  1.18it/s, acc=90.6, loss=0.179]"
     ]
    },
    {
     "name": "stdout",
     "output_type": "stream",
     "text": [
      "torch.Size([32, 64, 21, 28])\n"
     ]
    },
    {
     "name": "stderr",
     "output_type": "stream",
     "text": [
      "Epoch 3/15:  54%|█████▍    | 7/13 [00:05<00:05,  1.20it/s, acc=91.5, loss=0.141]"
     ]
    },
    {
     "name": "stdout",
     "output_type": "stream",
     "text": [
      "torch.Size([32, 64, 21, 28])\n"
     ]
    },
    {
     "name": "stderr",
     "output_type": "stream",
     "text": [
      "Epoch 3/15:  62%|██████▏   | 8/13 [00:06<00:04,  1.19it/s, acc=90.2, loss=0.545]"
     ]
    },
    {
     "name": "stdout",
     "output_type": "stream",
     "text": [
      "torch.Size([32, 64, 21, 28])\n"
     ]
    },
    {
     "name": "stderr",
     "output_type": "stream",
     "text": [
      "Epoch 3/15:  69%|██████▉   | 9/13 [00:07<00:03,  1.18it/s, acc=90.6, loss=0.188]"
     ]
    },
    {
     "name": "stdout",
     "output_type": "stream",
     "text": [
      "torch.Size([32, 64, 21, 28])\n"
     ]
    },
    {
     "name": "stderr",
     "output_type": "stream",
     "text": [
      "Epoch 3/15:  77%|███████▋  | 10/13 [00:08<00:02,  1.18it/s, acc=90.3, loss=0.221]"
     ]
    },
    {
     "name": "stdout",
     "output_type": "stream",
     "text": [
      "torch.Size([32, 64, 21, 28])\n"
     ]
    },
    {
     "name": "stderr",
     "output_type": "stream",
     "text": [
      "Epoch 3/15:  85%|████████▍ | 11/13 [00:09<00:01,  1.15it/s, acc=90.1, loss=0.316]"
     ]
    },
    {
     "name": "stdout",
     "output_type": "stream",
     "text": [
      "torch.Size([32, 64, 21, 28])\n"
     ]
    },
    {
     "name": "stderr",
     "output_type": "stream",
     "text": [
      "Epoch 3/15:  92%|█████████▏| 12/13 [00:10<00:00,  1.19it/s, acc=90.6, loss=0.0839]"
     ]
    },
    {
     "name": "stdout",
     "output_type": "stream",
     "text": [
      "torch.Size([12, 64, 21, 28])\n"
     ]
    },
    {
     "name": "stderr",
     "output_type": "stream",
     "text": [
      "Epoch 3/15: 100%|██████████| 13/13 [00:10<00:00,  1.23it/s, acc=90.7, loss=0.213] \n"
     ]
    },
    {
     "name": "stdout",
     "output_type": "stream",
     "text": [
      "Epoch [3/15], Loss: 0.2322, Accuracy: 90.66%\n",
      "Model saved!\n"
     ]
    },
    {
     "name": "stderr",
     "output_type": "stream",
     "text": [
      "Epoch 4/15:   0%|          | 0/13 [00:00<?, ?it/s]"
     ]
    },
    {
     "name": "stdout",
     "output_type": "stream",
     "text": [
      "torch.Size([32, 64, 21, 28])\n"
     ]
    },
    {
     "name": "stderr",
     "output_type": "stream",
     "text": [
      "Epoch 4/15:   8%|▊         | 1/13 [00:00<00:09,  1.21it/s, acc=96.9, loss=0.181]"
     ]
    },
    {
     "name": "stdout",
     "output_type": "stream",
     "text": [
      "torch.Size([32, 64, 21, 28])\n"
     ]
    },
    {
     "name": "stderr",
     "output_type": "stream",
     "text": [
      "Epoch 4/15:  15%|█▌        | 2/13 [00:01<00:09,  1.18it/s, acc=96.9, loss=0.126]"
     ]
    },
    {
     "name": "stdout",
     "output_type": "stream",
     "text": [
      "torch.Size([32, 64, 21, 28])\n"
     ]
    },
    {
     "name": "stderr",
     "output_type": "stream",
     "text": [
      "Epoch 4/15:  23%|██▎       | 3/13 [00:02<00:08,  1.17it/s, acc=97.9, loss=0.0681]"
     ]
    },
    {
     "name": "stdout",
     "output_type": "stream",
     "text": [
      "torch.Size([32, 64, 21, 28])\n"
     ]
    },
    {
     "name": "stderr",
     "output_type": "stream",
     "text": [
      "Epoch 4/15:  31%|███       | 4/13 [00:03<00:07,  1.14it/s, acc=96.9, loss=0.108] "
     ]
    },
    {
     "name": "stdout",
     "output_type": "stream",
     "text": [
      "torch.Size([32, 64, 21, 28])\n"
     ]
    },
    {
     "name": "stderr",
     "output_type": "stream",
     "text": [
      "Epoch 4/15:  38%|███▊      | 5/13 [00:04<00:06,  1.19it/s, acc=96.9, loss=0.152]"
     ]
    },
    {
     "name": "stdout",
     "output_type": "stream",
     "text": [
      "torch.Size([32, 64, 21, 28])\n"
     ]
    },
    {
     "name": "stderr",
     "output_type": "stream",
     "text": [
      "Epoch 4/15:  46%|████▌     | 6/13 [00:05<00:05,  1.20it/s, acc=95.3, loss=0.289]"
     ]
    },
    {
     "name": "stdout",
     "output_type": "stream",
     "text": [
      "torch.Size([32, 64, 21, 28])\n"
     ]
    },
    {
     "name": "stderr",
     "output_type": "stream",
     "text": [
      "Epoch 4/15:  54%|█████▍    | 7/13 [00:05<00:05,  1.20it/s, acc=95.1, loss=0.198]"
     ]
    },
    {
     "name": "stdout",
     "output_type": "stream",
     "text": [
      "torch.Size([32, 64, 21, 28])\n"
     ]
    },
    {
     "name": "stderr",
     "output_type": "stream",
     "text": [
      "Epoch 4/15:  62%|██████▏   | 8/13 [00:06<00:04,  1.21it/s, acc=95.3, loss=0.106]"
     ]
    },
    {
     "name": "stdout",
     "output_type": "stream",
     "text": [
      "torch.Size([32, 64, 21, 28])\n"
     ]
    },
    {
     "name": "stderr",
     "output_type": "stream",
     "text": [
      "Epoch 4/15:  69%|██████▉   | 9/13 [00:07<00:03,  1.22it/s, acc=93.8, loss=0.279]"
     ]
    },
    {
     "name": "stdout",
     "output_type": "stream",
     "text": [
      "torch.Size([32, 64, 21, 28])\n"
     ]
    },
    {
     "name": "stderr",
     "output_type": "stream",
     "text": [
      "Epoch 4/15:  77%|███████▋  | 10/13 [00:08<00:02,  1.22it/s, acc=94.1, loss=0.133]"
     ]
    },
    {
     "name": "stdout",
     "output_type": "stream",
     "text": [
      "torch.Size([32, 64, 21, 28])\n"
     ]
    },
    {
     "name": "stderr",
     "output_type": "stream",
     "text": [
      "Epoch 4/15:  85%|████████▍ | 11/13 [00:09<00:01,  1.23it/s, acc=94, loss=0.155]  "
     ]
    },
    {
     "name": "stdout",
     "output_type": "stream",
     "text": [
      "torch.Size([32, 64, 21, 28])\n"
     ]
    },
    {
     "name": "stderr",
     "output_type": "stream",
     "text": [
      "Epoch 4/15:  92%|█████████▏| 12/13 [00:10<00:00,  1.18it/s, acc=94.3, loss=0.131]"
     ]
    },
    {
     "name": "stdout",
     "output_type": "stream",
     "text": [
      "torch.Size([12, 64, 21, 28])\n"
     ]
    },
    {
     "name": "stderr",
     "output_type": "stream",
     "text": [
      "Epoch 4/15: 100%|██████████| 13/13 [00:10<00:00,  1.24it/s, acc=94.2, loss=0.2]  \n"
     ]
    },
    {
     "name": "stdout",
     "output_type": "stream",
     "text": [
      "Epoch [4/15], Loss: 0.1635, Accuracy: 94.19%\n",
      "Model saved!\n"
     ]
    },
    {
     "name": "stderr",
     "output_type": "stream",
     "text": [
      "Epoch 5/15:   0%|          | 0/13 [00:00<?, ?it/s]"
     ]
    },
    {
     "name": "stdout",
     "output_type": "stream",
     "text": [
      "torch.Size([32, 64, 21, 28])\n"
     ]
    },
    {
     "name": "stderr",
     "output_type": "stream",
     "text": [
      "Epoch 5/15:   8%|▊         | 1/13 [00:00<00:09,  1.24it/s, acc=93.8, loss=0.226]"
     ]
    },
    {
     "name": "stdout",
     "output_type": "stream",
     "text": [
      "torch.Size([32, 64, 21, 28])\n"
     ]
    },
    {
     "name": "stderr",
     "output_type": "stream",
     "text": [
      "Epoch 5/15:  15%|█▌        | 2/13 [00:01<00:09,  1.14it/s, acc=95.3, loss=0.114]"
     ]
    },
    {
     "name": "stdout",
     "output_type": "stream",
     "text": [
      "torch.Size([32, 64, 21, 28])\n"
     ]
    },
    {
     "name": "stderr",
     "output_type": "stream",
     "text": [
      "Epoch 5/15:  23%|██▎       | 3/13 [00:02<00:08,  1.17it/s, acc=95.8, loss=0.107]"
     ]
    },
    {
     "name": "stdout",
     "output_type": "stream",
     "text": [
      "torch.Size([32, 64, 21, 28])\n"
     ]
    },
    {
     "name": "stderr",
     "output_type": "stream",
     "text": [
      "Epoch 5/15:  31%|███       | 4/13 [00:03<00:07,  1.19it/s, acc=95.3, loss=0.163]"
     ]
    },
    {
     "name": "stdout",
     "output_type": "stream",
     "text": [
      "torch.Size([32, 64, 21, 28])\n"
     ]
    },
    {
     "name": "stderr",
     "output_type": "stream",
     "text": [
      "Epoch 5/15:  38%|███▊      | 5/13 [00:04<00:06,  1.16it/s, acc=95.6, loss=0.101]"
     ]
    },
    {
     "name": "stdout",
     "output_type": "stream",
     "text": [
      "torch.Size([32, 64, 21, 28])\n"
     ]
    },
    {
     "name": "stderr",
     "output_type": "stream",
     "text": [
      "Epoch 5/15:  46%|████▌     | 6/13 [00:05<00:06,  1.15it/s, acc=95.3, loss=0.172]"
     ]
    },
    {
     "name": "stdout",
     "output_type": "stream",
     "text": [
      "torch.Size([32, 64, 21, 28])\n"
     ]
    },
    {
     "name": "stderr",
     "output_type": "stream",
     "text": [
      "Epoch 5/15:  54%|█████▍    | 7/13 [00:05<00:05,  1.18it/s, acc=94.6, loss=0.189]"
     ]
    },
    {
     "name": "stdout",
     "output_type": "stream",
     "text": [
      "torch.Size([32, 64, 21, 28])\n"
     ]
    },
    {
     "name": "stderr",
     "output_type": "stream",
     "text": [
      "Epoch 5/15:  62%|██████▏   | 8/13 [00:06<00:04,  1.18it/s, acc=94.5, loss=0.0895]"
     ]
    },
    {
     "name": "stdout",
     "output_type": "stream",
     "text": [
      "torch.Size([32, 64, 21, 28])\n"
     ]
    },
    {
     "name": "stderr",
     "output_type": "stream",
     "text": [
      "Epoch 5/15:  69%|██████▉   | 9/13 [00:07<00:03,  1.21it/s, acc=94.8, loss=0.102] "
     ]
    },
    {
     "name": "stdout",
     "output_type": "stream",
     "text": [
      "torch.Size([32, 64, 21, 28])\n"
     ]
    },
    {
     "name": "stderr",
     "output_type": "stream",
     "text": [
      "Epoch 5/15:  77%|███████▋  | 10/13 [00:08<00:02,  1.21it/s, acc=95.3, loss=0.0669]"
     ]
    },
    {
     "name": "stdout",
     "output_type": "stream",
     "text": [
      "torch.Size([32, 64, 21, 28])\n"
     ]
    },
    {
     "name": "stderr",
     "output_type": "stream",
     "text": [
      "Epoch 5/15:  85%|████████▍ | 11/13 [00:09<00:01,  1.21it/s, acc=95.5, loss=0.0787]"
     ]
    },
    {
     "name": "stdout",
     "output_type": "stream",
     "text": [
      "torch.Size([32, 64, 21, 28])\n"
     ]
    },
    {
     "name": "stderr",
     "output_type": "stream",
     "text": [
      "Epoch 5/15:  92%|█████████▏| 12/13 [00:10<00:00,  1.21it/s, acc=95.8, loss=0.0259]"
     ]
    },
    {
     "name": "stdout",
     "output_type": "stream",
     "text": [
      "torch.Size([12, 64, 21, 28])\n"
     ]
    },
    {
     "name": "stderr",
     "output_type": "stream",
     "text": [
      "Epoch 5/15: 100%|██████████| 13/13 [00:10<00:00,  1.23it/s, acc=96, loss=0.0762]  \n"
     ]
    },
    {
     "name": "stdout",
     "output_type": "stream",
     "text": [
      "Epoch [5/15], Loss: 0.1162, Accuracy: 95.96%\n",
      "Model saved!\n"
     ]
    },
    {
     "name": "stderr",
     "output_type": "stream",
     "text": [
      "Epoch 6/15:   0%|          | 0/13 [00:00<?, ?it/s]"
     ]
    },
    {
     "name": "stdout",
     "output_type": "stream",
     "text": [
      "torch.Size([32, 64, 21, 28])\n"
     ]
    },
    {
     "name": "stderr",
     "output_type": "stream",
     "text": [
      "Epoch 6/15:   8%|▊         | 1/13 [00:00<00:09,  1.22it/s, acc=100, loss=0.0232]"
     ]
    },
    {
     "name": "stdout",
     "output_type": "stream",
     "text": [
      "torch.Size([32, 64, 21, 28])\n"
     ]
    },
    {
     "name": "stderr",
     "output_type": "stream",
     "text": [
      "Epoch 6/15:  15%|█▌        | 2/13 [00:01<00:09,  1.16it/s, acc=98.4, loss=0.0926]"
     ]
    },
    {
     "name": "stdout",
     "output_type": "stream",
     "text": [
      "torch.Size([32, 64, 21, 28])\n"
     ]
    },
    {
     "name": "stderr",
     "output_type": "stream",
     "text": [
      "Epoch 6/15:  23%|██▎       | 3/13 [00:02<00:08,  1.17it/s, acc=94.8, loss=0.229] "
     ]
    },
    {
     "name": "stdout",
     "output_type": "stream",
     "text": [
      "torch.Size([32, 64, 21, 28])\n"
     ]
    },
    {
     "name": "stderr",
     "output_type": "stream",
     "text": [
      "Epoch 6/15:  31%|███       | 4/13 [00:03<00:07,  1.15it/s, acc=96.1, loss=0.0422]"
     ]
    },
    {
     "name": "stdout",
     "output_type": "stream",
     "text": [
      "torch.Size([32, 64, 21, 28])\n"
     ]
    },
    {
     "name": "stderr",
     "output_type": "stream",
     "text": [
      "Epoch 6/15:  38%|███▊      | 5/13 [00:04<00:06,  1.16it/s, acc=96.2, loss=0.0466]"
     ]
    },
    {
     "name": "stdout",
     "output_type": "stream",
     "text": [
      "torch.Size([32, 64, 21, 28])\n"
     ]
    },
    {
     "name": "stderr",
     "output_type": "stream",
     "text": [
      "Epoch 6/15:  46%|████▌     | 6/13 [00:05<00:06,  1.16it/s, acc=96.4, loss=0.052] "
     ]
    },
    {
     "name": "stdout",
     "output_type": "stream",
     "text": [
      "torch.Size([32, 64, 21, 28])\n"
     ]
    },
    {
     "name": "stderr",
     "output_type": "stream",
     "text": [
      "Epoch 6/15:  54%|█████▍    | 7/13 [00:05<00:05,  1.18it/s, acc=96.9, loss=0.0409]"
     ]
    },
    {
     "name": "stdout",
     "output_type": "stream",
     "text": [
      "torch.Size([32, 64, 21, 28])\n"
     ]
    },
    {
     "name": "stderr",
     "output_type": "stream",
     "text": [
      "Epoch 6/15:  62%|██████▏   | 8/13 [00:06<00:04,  1.18it/s, acc=97.3, loss=0.0362]"
     ]
    },
    {
     "name": "stdout",
     "output_type": "stream",
     "text": [
      "torch.Size([32, 64, 21, 28])\n"
     ]
    },
    {
     "name": "stderr",
     "output_type": "stream",
     "text": [
      "Epoch 6/15:  69%|██████▉   | 9/13 [00:07<00:03,  1.14it/s, acc=97.6, loss=0.0351]"
     ]
    },
    {
     "name": "stdout",
     "output_type": "stream",
     "text": [
      "torch.Size([32, 64, 21, 28])\n"
     ]
    },
    {
     "name": "stderr",
     "output_type": "stream",
     "text": [
      "Epoch 6/15:  77%|███████▋  | 10/13 [00:08<00:02,  1.17it/s, acc=96.9, loss=0.171]"
     ]
    },
    {
     "name": "stdout",
     "output_type": "stream",
     "text": [
      "torch.Size([32, 64, 21, 28])\n"
     ]
    },
    {
     "name": "stderr",
     "output_type": "stream",
     "text": [
      "Epoch 6/15:  85%|████████▍ | 11/13 [00:09<00:01,  1.17it/s, acc=97.2, loss=0.0141]"
     ]
    },
    {
     "name": "stdout",
     "output_type": "stream",
     "text": [
      "torch.Size([32, 64, 21, 28])\n"
     ]
    },
    {
     "name": "stderr",
     "output_type": "stream",
     "text": [
      "Epoch 6/15:  92%|█████████▏| 12/13 [00:10<00:00,  1.18it/s, acc=97.4, loss=0.0184]"
     ]
    },
    {
     "name": "stdout",
     "output_type": "stream",
     "text": [
      "torch.Size([12, 64, 21, 28])\n"
     ]
    },
    {
     "name": "stderr",
     "output_type": "stream",
     "text": [
      "Epoch 6/15: 100%|██████████| 13/13 [00:10<00:00,  1.22it/s, acc=97.2, loss=0.129] \n"
     ]
    },
    {
     "name": "stdout",
     "output_type": "stream",
     "text": [
      "Epoch [6/15], Loss: 0.0715, Accuracy: 97.22%\n",
      "Model saved!\n"
     ]
    },
    {
     "name": "stderr",
     "output_type": "stream",
     "text": [
      "Epoch 7/15:   0%|          | 0/13 [00:00<?, ?it/s]"
     ]
    },
    {
     "name": "stdout",
     "output_type": "stream",
     "text": [
      "torch.Size([32, 64, 21, 28])\n"
     ]
    },
    {
     "name": "stderr",
     "output_type": "stream",
     "text": [
      "Epoch 7/15:   8%|▊         | 1/13 [00:00<00:10,  1.19it/s, acc=100, loss=0.0467]"
     ]
    },
    {
     "name": "stdout",
     "output_type": "stream",
     "text": [
      "torch.Size([32, 64, 21, 28])\n"
     ]
    },
    {
     "name": "stderr",
     "output_type": "stream",
     "text": [
      "Epoch 7/15:  15%|█▌        | 2/13 [00:01<00:09,  1.16it/s, acc=98.4, loss=0.0474]"
     ]
    },
    {
     "name": "stdout",
     "output_type": "stream",
     "text": [
      "torch.Size([32, 64, 21, 28])\n"
     ]
    },
    {
     "name": "stderr",
     "output_type": "stream",
     "text": [
      "Epoch 7/15:  23%|██▎       | 3/13 [00:02<00:08,  1.18it/s, acc=99, loss=0.0312]  "
     ]
    },
    {
     "name": "stdout",
     "output_type": "stream",
     "text": [
      "torch.Size([32, 64, 21, 28])\n"
     ]
    },
    {
     "name": "stderr",
     "output_type": "stream",
     "text": [
      "Epoch 7/15:  31%|███       | 4/13 [00:03<00:07,  1.16it/s, acc=99.2, loss=0.0158]"
     ]
    },
    {
     "name": "stdout",
     "output_type": "stream",
     "text": [
      "torch.Size([32, 64, 21, 28])\n"
     ]
    },
    {
     "name": "stderr",
     "output_type": "stream",
     "text": [
      "Epoch 7/15:  38%|███▊      | 5/13 [00:04<00:06,  1.18it/s, acc=98.1, loss=0.107] "
     ]
    },
    {
     "name": "stdout",
     "output_type": "stream",
     "text": [
      "torch.Size([32, 64, 21, 28])\n"
     ]
    },
    {
     "name": "stderr",
     "output_type": "stream",
     "text": [
      "Epoch 7/15:  46%|████▌     | 6/13 [00:05<00:06,  1.14it/s, acc=97.4, loss=0.072]"
     ]
    },
    {
     "name": "stdout",
     "output_type": "stream",
     "text": [
      "torch.Size([32, 64, 21, 28])\n"
     ]
    },
    {
     "name": "stderr",
     "output_type": "stream",
     "text": [
      "Epoch 7/15:  54%|█████▍    | 7/13 [00:05<00:05,  1.17it/s, acc=97.8, loss=0.0292]"
     ]
    },
    {
     "name": "stdout",
     "output_type": "stream",
     "text": [
      "torch.Size([32, 64, 21, 28])\n"
     ]
    },
    {
     "name": "stderr",
     "output_type": "stream",
     "text": [
      "Epoch 7/15:  62%|██████▏   | 8/13 [00:06<00:04,  1.18it/s, acc=97.7, loss=0.14]  "
     ]
    },
    {
     "name": "stdout",
     "output_type": "stream",
     "text": [
      "torch.Size([32, 64, 21, 28])\n"
     ]
    },
    {
     "name": "stderr",
     "output_type": "stream",
     "text": [
      "Epoch 7/15:  69%|██████▉   | 9/13 [00:07<00:03,  1.18it/s, acc=97.9, loss=0.0595]"
     ]
    },
    {
     "name": "stdout",
     "output_type": "stream",
     "text": [
      "torch.Size([32, 64, 21, 28])\n"
     ]
    },
    {
     "name": "stderr",
     "output_type": "stream",
     "text": [
      "Epoch 7/15:  77%|███████▋  | 10/13 [00:08<00:02,  1.19it/s, acc=98.1, loss=0.0271]"
     ]
    },
    {
     "name": "stdout",
     "output_type": "stream",
     "text": [
      "torch.Size([32, 64, 21, 28])\n"
     ]
    },
    {
     "name": "stderr",
     "output_type": "stream",
     "text": [
      "Epoch 7/15:  85%|████████▍ | 11/13 [00:09<00:01,  1.20it/s, acc=98.3, loss=0.00479]"
     ]
    },
    {
     "name": "stdout",
     "output_type": "stream",
     "text": [
      "torch.Size([32, 64, 21, 28])\n"
     ]
    },
    {
     "name": "stderr",
     "output_type": "stream",
     "text": [
      "Epoch 7/15:  92%|█████████▏| 12/13 [00:10<00:00,  1.20it/s, acc=98.4, loss=0.024]  "
     ]
    },
    {
     "name": "stdout",
     "output_type": "stream",
     "text": [
      "torch.Size([12, 64, 21, 28])\n"
     ]
    },
    {
     "name": "stderr",
     "output_type": "stream",
     "text": [
      "Epoch 7/15: 100%|██████████| 13/13 [00:10<00:00,  1.23it/s, acc=98.5, loss=0.00439]\n"
     ]
    },
    {
     "name": "stdout",
     "output_type": "stream",
     "text": [
      "Epoch [7/15], Loss: 0.0469, Accuracy: 98.48%\n",
      "Model saved!\n"
     ]
    },
    {
     "name": "stderr",
     "output_type": "stream",
     "text": [
      "Epoch 8/15:   0%|          | 0/13 [00:00<?, ?it/s]"
     ]
    },
    {
     "name": "stdout",
     "output_type": "stream",
     "text": [
      "torch.Size([32, 64, 21, 28])\n"
     ]
    },
    {
     "name": "stderr",
     "output_type": "stream",
     "text": [
      "Epoch 8/15:   8%|▊         | 1/13 [00:00<00:10,  1.10it/s, acc=100, loss=0.0242]"
     ]
    },
    {
     "name": "stdout",
     "output_type": "stream",
     "text": [
      "torch.Size([32, 64, 21, 28])\n"
     ]
    },
    {
     "name": "stderr",
     "output_type": "stream",
     "text": [
      "Epoch 8/15:  15%|█▌        | 2/13 [00:01<00:09,  1.10it/s, acc=100, loss=0.00867]"
     ]
    },
    {
     "name": "stdout",
     "output_type": "stream",
     "text": [
      "torch.Size([32, 64, 21, 28])\n"
     ]
    },
    {
     "name": "stderr",
     "output_type": "stream",
     "text": [
      "Epoch 8/15:  23%|██▎       | 3/13 [00:02<00:08,  1.15it/s, acc=100, loss=0.025]  "
     ]
    },
    {
     "name": "stdout",
     "output_type": "stream",
     "text": [
      "torch.Size([32, 64, 21, 28])\n"
     ]
    },
    {
     "name": "stderr",
     "output_type": "stream",
     "text": [
      "Epoch 8/15:  31%|███       | 4/13 [00:03<00:07,  1.16it/s, acc=100, loss=0.0114]"
     ]
    },
    {
     "name": "stdout",
     "output_type": "stream",
     "text": [
      "torch.Size([32, 64, 21, 28])\n"
     ]
    },
    {
     "name": "stderr",
     "output_type": "stream",
     "text": [
      "Epoch 8/15:  38%|███▊      | 5/13 [00:04<00:06,  1.18it/s, acc=99.4, loss=0.0282]"
     ]
    },
    {
     "name": "stdout",
     "output_type": "stream",
     "text": [
      "torch.Size([32, 64, 21, 28])\n"
     ]
    },
    {
     "name": "stderr",
     "output_type": "stream",
     "text": [
      "Epoch 8/15:  46%|████▌     | 6/13 [00:05<00:05,  1.19it/s, acc=99.5, loss=0.0135]"
     ]
    },
    {
     "name": "stdout",
     "output_type": "stream",
     "text": [
      "torch.Size([32, 64, 21, 28])\n"
     ]
    },
    {
     "name": "stderr",
     "output_type": "stream",
     "text": [
      "Epoch 8/15:  54%|█████▍    | 7/13 [00:06<00:05,  1.14it/s, acc=99.6, loss=0.00811]"
     ]
    },
    {
     "name": "stdout",
     "output_type": "stream",
     "text": [
      "torch.Size([32, 64, 21, 28])\n"
     ]
    },
    {
     "name": "stderr",
     "output_type": "stream",
     "text": [
      "Epoch 8/15:  62%|██████▏   | 8/13 [00:06<00:04,  1.17it/s, acc=99.2, loss=0.0397] "
     ]
    },
    {
     "name": "stdout",
     "output_type": "stream",
     "text": [
      "torch.Size([32, 64, 21, 28])\n"
     ]
    },
    {
     "name": "stderr",
     "output_type": "stream",
     "text": [
      "Epoch 8/15:  69%|██████▉   | 9/13 [00:07<00:03,  1.17it/s, acc=99.3, loss=0.00873]"
     ]
    },
    {
     "name": "stdout",
     "output_type": "stream",
     "text": [
      "torch.Size([32, 64, 21, 28])\n"
     ]
    },
    {
     "name": "stderr",
     "output_type": "stream",
     "text": [
      "Epoch 8/15:  77%|███████▋  | 10/13 [00:08<00:02,  1.17it/s, acc=99.1, loss=0.0557]"
     ]
    },
    {
     "name": "stdout",
     "output_type": "stream",
     "text": [
      "torch.Size([32, 64, 21, 28])\n"
     ]
    },
    {
     "name": "stderr",
     "output_type": "stream",
     "text": [
      "Epoch 8/15:  85%|████████▍ | 11/13 [00:09<00:01,  1.19it/s, acc=99.1, loss=0.0135]"
     ]
    },
    {
     "name": "stdout",
     "output_type": "stream",
     "text": [
      "torch.Size([32, 64, 21, 28])\n"
     ]
    },
    {
     "name": "stderr",
     "output_type": "stream",
     "text": [
      "Epoch 8/15:  92%|█████████▏| 12/13 [00:10<00:00,  1.14it/s, acc=99.2, loss=0.0118]"
     ]
    },
    {
     "name": "stdout",
     "output_type": "stream",
     "text": [
      "torch.Size([12, 64, 21, 28])\n"
     ]
    },
    {
     "name": "stderr",
     "output_type": "stream",
     "text": [
      "Epoch 8/15: 100%|██████████| 13/13 [00:10<00:00,  1.21it/s, acc=99.2, loss=0.00296]\n"
     ]
    },
    {
     "name": "stdout",
     "output_type": "stream",
     "text": [
      "Epoch [8/15], Loss: 0.0193, Accuracy: 99.24%\n",
      "Model saved!\n"
     ]
    },
    {
     "name": "stderr",
     "output_type": "stream",
     "text": [
      "Epoch 9/15:   0%|          | 0/13 [00:00<?, ?it/s]"
     ]
    },
    {
     "name": "stdout",
     "output_type": "stream",
     "text": [
      "torch.Size([32, 64, 21, 28])\n"
     ]
    },
    {
     "name": "stderr",
     "output_type": "stream",
     "text": [
      "Epoch 9/15:   8%|▊         | 1/13 [00:00<00:09,  1.24it/s, acc=100, loss=0.019]"
     ]
    },
    {
     "name": "stdout",
     "output_type": "stream",
     "text": [
      "torch.Size([32, 64, 21, 28])\n"
     ]
    },
    {
     "name": "stderr",
     "output_type": "stream",
     "text": [
      "Epoch 9/15:  15%|█▌        | 2/13 [00:01<00:09,  1.16it/s, acc=100, loss=0.0148]"
     ]
    },
    {
     "name": "stdout",
     "output_type": "stream",
     "text": [
      "torch.Size([32, 64, 21, 28])\n"
     ]
    },
    {
     "name": "stderr",
     "output_type": "stream",
     "text": [
      "Epoch 9/15:  23%|██▎       | 3/13 [00:02<00:08,  1.16it/s, acc=100, loss=0.00831]"
     ]
    },
    {
     "name": "stdout",
     "output_type": "stream",
     "text": [
      "torch.Size([32, 64, 21, 28])\n"
     ]
    },
    {
     "name": "stderr",
     "output_type": "stream",
     "text": [
      "Epoch 9/15:  31%|███       | 4/13 [00:03<00:07,  1.17it/s, acc=100, loss=0.00767]"
     ]
    },
    {
     "name": "stdout",
     "output_type": "stream",
     "text": [
      "torch.Size([32, 64, 21, 28])\n"
     ]
    },
    {
     "name": "stderr",
     "output_type": "stream",
     "text": [
      "Epoch 9/15:  38%|███▊      | 5/13 [00:04<00:06,  1.16it/s, acc=100, loss=0.00786]"
     ]
    },
    {
     "name": "stdout",
     "output_type": "stream",
     "text": [
      "torch.Size([32, 64, 21, 28])\n"
     ]
    },
    {
     "name": "stderr",
     "output_type": "stream",
     "text": [
      "Epoch 9/15:  46%|████▌     | 6/13 [00:05<00:05,  1.17it/s, acc=100, loss=0.00887]"
     ]
    },
    {
     "name": "stdout",
     "output_type": "stream",
     "text": [
      "torch.Size([32, 64, 21, 28])\n"
     ]
    },
    {
     "name": "stderr",
     "output_type": "stream",
     "text": [
      "Epoch 9/15:  54%|█████▍    | 7/13 [00:05<00:05,  1.19it/s, acc=100, loss=0.00338]"
     ]
    },
    {
     "name": "stdout",
     "output_type": "stream",
     "text": [
      "torch.Size([32, 64, 21, 28])\n"
     ]
    },
    {
     "name": "stderr",
     "output_type": "stream",
     "text": [
      "Epoch 9/15:  62%|██████▏   | 8/13 [00:06<00:04,  1.19it/s, acc=100, loss=0.0125] "
     ]
    },
    {
     "name": "stdout",
     "output_type": "stream",
     "text": [
      "torch.Size([32, 64, 21, 28])\n"
     ]
    },
    {
     "name": "stderr",
     "output_type": "stream",
     "text": [
      "Epoch 9/15:  69%|██████▉   | 9/13 [00:07<00:03,  1.20it/s, acc=100, loss=0.00329]"
     ]
    },
    {
     "name": "stdout",
     "output_type": "stream",
     "text": [
      "torch.Size([32, 64, 21, 28])\n"
     ]
    },
    {
     "name": "stderr",
     "output_type": "stream",
     "text": [
      "Epoch 9/15:  77%|███████▋  | 10/13 [00:08<00:02,  1.20it/s, acc=100, loss=0.00912]"
     ]
    },
    {
     "name": "stdout",
     "output_type": "stream",
     "text": [
      "torch.Size([32, 64, 21, 28])\n"
     ]
    },
    {
     "name": "stderr",
     "output_type": "stream",
     "text": [
      "Epoch 9/15:  85%|████████▍ | 11/13 [00:09<00:01,  1.16it/s, acc=100, loss=0.000404]"
     ]
    },
    {
     "name": "stdout",
     "output_type": "stream",
     "text": [
      "torch.Size([32, 64, 21, 28])\n"
     ]
    },
    {
     "name": "stderr",
     "output_type": "stream",
     "text": [
      "Epoch 9/15:  92%|█████████▏| 12/13 [00:10<00:00,  1.18it/s, acc=100, loss=0.019]   "
     ]
    },
    {
     "name": "stdout",
     "output_type": "stream",
     "text": [
      "torch.Size([12, 64, 21, 28])\n"
     ]
    },
    {
     "name": "stderr",
     "output_type": "stream",
     "text": [
      "Epoch 9/15: 100%|██████████| 13/13 [00:10<00:00,  1.23it/s, acc=100, loss=0.000468]\n"
     ]
    },
    {
     "name": "stdout",
     "output_type": "stream",
     "text": [
      "Epoch [9/15], Loss: 0.0088, Accuracy: 100.00%\n",
      "Model saved!\n"
     ]
    },
    {
     "name": "stderr",
     "output_type": "stream",
     "text": [
      "Epoch 10/15:   0%|          | 0/13 [00:00<?, ?it/s]"
     ]
    },
    {
     "name": "stdout",
     "output_type": "stream",
     "text": [
      "torch.Size([32, 64, 21, 28])\n"
     ]
    },
    {
     "name": "stderr",
     "output_type": "stream",
     "text": [
      "Epoch 10/15:   8%|▊         | 1/13 [00:00<00:09,  1.21it/s, acc=100, loss=0.00142]"
     ]
    },
    {
     "name": "stdout",
     "output_type": "stream",
     "text": [
      "torch.Size([32, 64, 21, 28])\n"
     ]
    },
    {
     "name": "stderr",
     "output_type": "stream",
     "text": [
      "Epoch 10/15:  15%|█▌        | 2/13 [00:01<00:09,  1.14it/s, acc=100, loss=0.0173] "
     ]
    },
    {
     "name": "stdout",
     "output_type": "stream",
     "text": [
      "torch.Size([32, 64, 21, 28])\n"
     ]
    },
    {
     "name": "stderr",
     "output_type": "stream",
     "text": [
      "Epoch 10/15:  23%|██▎       | 3/13 [00:02<00:09,  1.09it/s, acc=100, loss=0.00578]"
     ]
    },
    {
     "name": "stdout",
     "output_type": "stream",
     "text": [
      "torch.Size([32, 64, 21, 28])\n"
     ]
    },
    {
     "name": "stderr",
     "output_type": "stream",
     "text": [
      "Epoch 10/15:  31%|███       | 4/13 [00:03<00:07,  1.14it/s, acc=100, loss=0.000689]"
     ]
    },
    {
     "name": "stdout",
     "output_type": "stream",
     "text": [
      "torch.Size([32, 64, 21, 28])\n"
     ]
    },
    {
     "name": "stderr",
     "output_type": "stream",
     "text": [
      "Epoch 10/15:  38%|███▊      | 5/13 [00:04<00:06,  1.16it/s, acc=100, loss=0.00234] "
     ]
    },
    {
     "name": "stdout",
     "output_type": "stream",
     "text": [
      "torch.Size([32, 64, 21, 28])\n"
     ]
    },
    {
     "name": "stderr",
     "output_type": "stream",
     "text": [
      "Epoch 10/15:  46%|████▌     | 6/13 [00:05<00:05,  1.17it/s, acc=100, loss=0.00121]"
     ]
    },
    {
     "name": "stdout",
     "output_type": "stream",
     "text": [
      "torch.Size([32, 64, 21, 28])\n"
     ]
    },
    {
     "name": "stderr",
     "output_type": "stream",
     "text": [
      "Epoch 10/15:  54%|█████▍    | 7/13 [00:05<00:05,  1.19it/s, acc=100, loss=0.00462]"
     ]
    },
    {
     "name": "stdout",
     "output_type": "stream",
     "text": [
      "torch.Size([32, 64, 21, 28])\n"
     ]
    },
    {
     "name": "stderr",
     "output_type": "stream",
     "text": [
      "Epoch 10/15:  62%|██████▏   | 8/13 [00:06<00:04,  1.14it/s, acc=100, loss=0.00104]"
     ]
    },
    {
     "name": "stdout",
     "output_type": "stream",
     "text": [
      "torch.Size([32, 64, 21, 28])\n"
     ]
    },
    {
     "name": "stderr",
     "output_type": "stream",
     "text": [
      "Epoch 10/15:  69%|██████▉   | 9/13 [00:07<00:03,  1.17it/s, acc=100, loss=0.00312]"
     ]
    },
    {
     "name": "stdout",
     "output_type": "stream",
     "text": [
      "torch.Size([32, 64, 21, 28])\n"
     ]
    },
    {
     "name": "stderr",
     "output_type": "stream",
     "text": [
      "Epoch 10/15:  77%|███████▋  | 10/13 [00:08<00:02,  1.19it/s, acc=100, loss=0.00331]"
     ]
    },
    {
     "name": "stdout",
     "output_type": "stream",
     "text": [
      "torch.Size([32, 64, 21, 28])\n"
     ]
    },
    {
     "name": "stderr",
     "output_type": "stream",
     "text": [
      "Epoch 10/15:  85%|████████▍ | 11/13 [00:09<00:01,  1.17it/s, acc=100, loss=0.00236]"
     ]
    },
    {
     "name": "stdout",
     "output_type": "stream",
     "text": [
      "torch.Size([32, 64, 21, 28])\n"
     ]
    },
    {
     "name": "stderr",
     "output_type": "stream",
     "text": [
      "Epoch 10/15:  92%|█████████▏| 12/13 [00:10<00:00,  1.18it/s, acc=100, loss=0.0147] "
     ]
    },
    {
     "name": "stdout",
     "output_type": "stream",
     "text": [
      "torch.Size([12, 64, 21, 28])\n"
     ]
    },
    {
     "name": "stderr",
     "output_type": "stream",
     "text": [
      "Epoch 10/15: 100%|██████████| 13/13 [00:10<00:00,  1.21it/s, acc=100, loss=0.00614]\n"
     ]
    },
    {
     "name": "stdout",
     "output_type": "stream",
     "text": [
      "Epoch [10/15], Loss: 0.0049, Accuracy: 100.00%\n"
     ]
    },
    {
     "name": "stderr",
     "output_type": "stream",
     "text": [
      "Epoch 11/15:   0%|          | 0/13 [00:00<?, ?it/s]"
     ]
    },
    {
     "name": "stdout",
     "output_type": "stream",
     "text": [
      "torch.Size([32, 64, 21, 28])\n"
     ]
    },
    {
     "name": "stderr",
     "output_type": "stream",
     "text": [
      "Epoch 11/15:   8%|▊         | 1/13 [00:00<00:10,  1.17it/s, acc=100, loss=0.00233]"
     ]
    },
    {
     "name": "stdout",
     "output_type": "stream",
     "text": [
      "torch.Size([32, 64, 21, 28])\n"
     ]
    },
    {
     "name": "stderr",
     "output_type": "stream",
     "text": [
      "Epoch 11/15:  15%|█▌        | 2/13 [00:01<00:09,  1.14it/s, acc=100, loss=0.00751]"
     ]
    },
    {
     "name": "stdout",
     "output_type": "stream",
     "text": [
      "torch.Size([32, 64, 21, 28])\n"
     ]
    },
    {
     "name": "stderr",
     "output_type": "stream",
     "text": [
      "Epoch 11/15:  23%|██▎       | 3/13 [00:02<00:08,  1.18it/s, acc=100, loss=0.00531]"
     ]
    },
    {
     "name": "stdout",
     "output_type": "stream",
     "text": [
      "torch.Size([32, 64, 21, 28])\n"
     ]
    },
    {
     "name": "stderr",
     "output_type": "stream",
     "text": [
      "Epoch 11/15:  31%|███       | 4/13 [00:03<00:07,  1.19it/s, acc=100, loss=0.000453]"
     ]
    },
    {
     "name": "stdout",
     "output_type": "stream",
     "text": [
      "torch.Size([32, 64, 21, 28])\n"
     ]
    },
    {
     "name": "stderr",
     "output_type": "stream",
     "text": [
      "Epoch 11/15:  38%|███▊      | 5/13 [00:04<00:06,  1.20it/s, acc=100, loss=0.00362] "
     ]
    },
    {
     "name": "stdout",
     "output_type": "stream",
     "text": [
      "torch.Size([32, 64, 21, 28])\n"
     ]
    },
    {
     "name": "stderr",
     "output_type": "stream",
     "text": [
      "Epoch 11/15:  46%|████▌     | 6/13 [00:05<00:05,  1.21it/s, acc=100, loss=0.00209]"
     ]
    },
    {
     "name": "stdout",
     "output_type": "stream",
     "text": [
      "torch.Size([32, 64, 21, 28])\n"
     ]
    },
    {
     "name": "stderr",
     "output_type": "stream",
     "text": [
      "Epoch 11/15:  54%|█████▍    | 7/13 [00:05<00:04,  1.21it/s, acc=100, loss=0.00779]"
     ]
    },
    {
     "name": "stdout",
     "output_type": "stream",
     "text": [
      "torch.Size([32, 64, 21, 28])\n"
     ]
    },
    {
     "name": "stderr",
     "output_type": "stream",
     "text": [
      "Epoch 11/15:  62%|██████▏   | 8/13 [00:06<00:04,  1.21it/s, acc=100, loss=0.00253]"
     ]
    },
    {
     "name": "stdout",
     "output_type": "stream",
     "text": [
      "torch.Size([32, 64, 21, 28])\n"
     ]
    },
    {
     "name": "stderr",
     "output_type": "stream",
     "text": [
      "Epoch 11/15:  69%|██████▉   | 9/13 [00:07<00:03,  1.19it/s, acc=100, loss=0.00147]"
     ]
    },
    {
     "name": "stdout",
     "output_type": "stream",
     "text": [
      "torch.Size([32, 64, 21, 28])\n"
     ]
    },
    {
     "name": "stderr",
     "output_type": "stream",
     "text": [
      "Epoch 11/15:  77%|███████▋  | 10/13 [00:08<00:02,  1.17it/s, acc=100, loss=0.01]  "
     ]
    },
    {
     "name": "stdout",
     "output_type": "stream",
     "text": [
      "torch.Size([32, 64, 21, 28])\n"
     ]
    },
    {
     "name": "stderr",
     "output_type": "stream",
     "text": [
      "Epoch 11/15:  85%|████████▍ | 11/13 [00:09<00:01,  1.18it/s, acc=100, loss=0.00523]"
     ]
    },
    {
     "name": "stdout",
     "output_type": "stream",
     "text": [
      "torch.Size([32, 64, 21, 28])\n"
     ]
    },
    {
     "name": "stderr",
     "output_type": "stream",
     "text": [
      "Epoch 11/15:  92%|█████████▏| 12/13 [00:10<00:00,  1.17it/s, acc=100, loss=0.00159]"
     ]
    },
    {
     "name": "stdout",
     "output_type": "stream",
     "text": [
      "torch.Size([12, 64, 21, 28])\n"
     ]
    },
    {
     "name": "stderr",
     "output_type": "stream",
     "text": [
      "Epoch 11/15: 100%|██████████| 13/13 [00:10<00:00,  1.23it/s, acc=100, loss=0.000808]\n"
     ]
    },
    {
     "name": "stdout",
     "output_type": "stream",
     "text": [
      "Epoch [11/15], Loss: 0.0039, Accuracy: 100.00%\n"
     ]
    },
    {
     "name": "stderr",
     "output_type": "stream",
     "text": [
      "Epoch 12/15:   0%|          | 0/13 [00:00<?, ?it/s]"
     ]
    },
    {
     "name": "stdout",
     "output_type": "stream",
     "text": [
      "torch.Size([32, 64, 21, 28])\n"
     ]
    },
    {
     "name": "stderr",
     "output_type": "stream",
     "text": [
      "Epoch 12/15:   8%|▊         | 1/13 [00:00<00:09,  1.22it/s, acc=100, loss=0.0025]"
     ]
    },
    {
     "name": "stdout",
     "output_type": "stream",
     "text": [
      "torch.Size([32, 64, 21, 28])\n"
     ]
    },
    {
     "name": "stderr",
     "output_type": "stream",
     "text": [
      "Epoch 12/15:  15%|█▌        | 2/13 [00:01<00:09,  1.22it/s, acc=100, loss=0.00315]"
     ]
    },
    {
     "name": "stdout",
     "output_type": "stream",
     "text": [
      "torch.Size([32, 64, 21, 28])\n"
     ]
    },
    {
     "name": "stderr",
     "output_type": "stream",
     "text": [
      "Epoch 12/15:  23%|██▎       | 3/13 [00:02<00:08,  1.20it/s, acc=100, loss=0.00227]"
     ]
    },
    {
     "name": "stdout",
     "output_type": "stream",
     "text": [
      "torch.Size([32, 64, 21, 28])\n"
     ]
    },
    {
     "name": "stderr",
     "output_type": "stream",
     "text": [
      "Epoch 12/15:  31%|███       | 4/13 [00:03<00:07,  1.14it/s, acc=100, loss=0.00358]"
     ]
    },
    {
     "name": "stdout",
     "output_type": "stream",
     "text": [
      "torch.Size([32, 64, 21, 28])\n"
     ]
    },
    {
     "name": "stderr",
     "output_type": "stream",
     "text": [
      "Epoch 12/15:  38%|███▊      | 5/13 [00:04<00:06,  1.15it/s, acc=100, loss=0.00101]"
     ]
    },
    {
     "name": "stdout",
     "output_type": "stream",
     "text": [
      "torch.Size([32, 64, 21, 28])\n"
     ]
    },
    {
     "name": "stderr",
     "output_type": "stream",
     "text": [
      "Epoch 12/15:  46%|████▌     | 6/13 [00:05<00:05,  1.17it/s, acc=100, loss=0.0041] "
     ]
    },
    {
     "name": "stdout",
     "output_type": "stream",
     "text": [
      "torch.Size([32, 64, 21, 28])\n"
     ]
    },
    {
     "name": "stderr",
     "output_type": "stream",
     "text": [
      "Epoch 12/15:  54%|█████▍    | 7/13 [00:05<00:05,  1.18it/s, acc=100, loss=0.00114]"
     ]
    },
    {
     "name": "stdout",
     "output_type": "stream",
     "text": [
      "torch.Size([32, 64, 21, 28])\n"
     ]
    },
    {
     "name": "stderr",
     "output_type": "stream",
     "text": [
      "Epoch 12/15:  62%|██████▏   | 8/13 [00:06<00:04,  1.19it/s, acc=100, loss=0.000337]"
     ]
    },
    {
     "name": "stdout",
     "output_type": "stream",
     "text": [
      "torch.Size([32, 64, 21, 28])\n"
     ]
    },
    {
     "name": "stderr",
     "output_type": "stream",
     "text": [
      "Epoch 12/15:  69%|██████▉   | 9/13 [00:07<00:03,  1.21it/s, acc=100, loss=0.00506] "
     ]
    },
    {
     "name": "stdout",
     "output_type": "stream",
     "text": [
      "torch.Size([32, 64, 21, 28])\n"
     ]
    },
    {
     "name": "stderr",
     "output_type": "stream",
     "text": [
      "Epoch 12/15:  77%|███████▋  | 10/13 [00:08<00:02,  1.20it/s, acc=100, loss=0.00151]"
     ]
    },
    {
     "name": "stdout",
     "output_type": "stream",
     "text": [
      "torch.Size([32, 64, 21, 28])\n"
     ]
    },
    {
     "name": "stderr",
     "output_type": "stream",
     "text": [
      "Epoch 12/15:  85%|████████▍ | 11/13 [00:09<00:01,  1.18it/s, acc=100, loss=0.00392]"
     ]
    },
    {
     "name": "stdout",
     "output_type": "stream",
     "text": [
      "torch.Size([32, 64, 21, 28])\n"
     ]
    },
    {
     "name": "stderr",
     "output_type": "stream",
     "text": [
      "Epoch 12/15:  92%|█████████▏| 12/13 [00:10<00:00,  1.18it/s, acc=100, loss=0.00707]"
     ]
    },
    {
     "name": "stdout",
     "output_type": "stream",
     "text": [
      "torch.Size([12, 64, 21, 28])\n"
     ]
    },
    {
     "name": "stderr",
     "output_type": "stream",
     "text": [
      "Epoch 12/15: 100%|██████████| 13/13 [00:10<00:00,  1.23it/s, acc=100, loss=2.5e-5] \n"
     ]
    },
    {
     "name": "stdout",
     "output_type": "stream",
     "text": [
      "Epoch [12/15], Loss: 0.0027, Accuracy: 100.00%\n"
     ]
    },
    {
     "name": "stderr",
     "output_type": "stream",
     "text": [
      "Epoch 13/15:   0%|          | 0/13 [00:00<?, ?it/s]"
     ]
    },
    {
     "name": "stdout",
     "output_type": "stream",
     "text": [
      "torch.Size([32, 64, 21, 28])\n"
     ]
    },
    {
     "name": "stderr",
     "output_type": "stream",
     "text": [
      "Epoch 13/15:   8%|▊         | 1/13 [00:00<00:10,  1.19it/s, acc=100, loss=0.00131]"
     ]
    },
    {
     "name": "stdout",
     "output_type": "stream",
     "text": [
      "torch.Size([32, 64, 21, 28])\n"
     ]
    },
    {
     "name": "stderr",
     "output_type": "stream",
     "text": [
      "Epoch 13/15:  15%|█▌        | 2/13 [00:01<00:08,  1.22it/s, acc=100, loss=0.000578]"
     ]
    },
    {
     "name": "stdout",
     "output_type": "stream",
     "text": [
      "torch.Size([32, 64, 21, 28])\n"
     ]
    },
    {
     "name": "stderr",
     "output_type": "stream",
     "text": [
      "Epoch 13/15:  23%|██▎       | 3/13 [00:02<00:08,  1.19it/s, acc=100, loss=0.00336] "
     ]
    },
    {
     "name": "stdout",
     "output_type": "stream",
     "text": [
      "torch.Size([32, 64, 21, 28])\n"
     ]
    },
    {
     "name": "stderr",
     "output_type": "stream",
     "text": [
      "Epoch 13/15:  31%|███       | 4/13 [00:03<00:07,  1.21it/s, acc=100, loss=8.07e-5]"
     ]
    },
    {
     "name": "stdout",
     "output_type": "stream",
     "text": [
      "torch.Size([32, 64, 21, 28])\n"
     ]
    },
    {
     "name": "stderr",
     "output_type": "stream",
     "text": [
      "Epoch 13/15:  38%|███▊      | 5/13 [00:04<00:06,  1.16it/s, acc=100, loss=0.00132]"
     ]
    },
    {
     "name": "stdout",
     "output_type": "stream",
     "text": [
      "torch.Size([32, 64, 21, 28])\n"
     ]
    },
    {
     "name": "stderr",
     "output_type": "stream",
     "text": [
      "Epoch 13/15:  46%|████▌     | 6/13 [00:05<00:05,  1.18it/s, acc=100, loss=0.000274]"
     ]
    },
    {
     "name": "stdout",
     "output_type": "stream",
     "text": [
      "torch.Size([32, 64, 21, 28])\n"
     ]
    },
    {
     "name": "stderr",
     "output_type": "stream",
     "text": [
      "Epoch 13/15:  54%|█████▍    | 7/13 [00:05<00:05,  1.19it/s, acc=99.6, loss=0.0326] "
     ]
    },
    {
     "name": "stdout",
     "output_type": "stream",
     "text": [
      "torch.Size([32, 64, 21, 28])\n"
     ]
    },
    {
     "name": "stderr",
     "output_type": "stream",
     "text": [
      "Epoch 13/15:  62%|██████▏   | 8/13 [00:06<00:04,  1.18it/s, acc=99.6, loss=0.000421]"
     ]
    },
    {
     "name": "stdout",
     "output_type": "stream",
     "text": [
      "torch.Size([32, 64, 21, 28])\n"
     ]
    },
    {
     "name": "stderr",
     "output_type": "stream",
     "text": [
      "Epoch 13/15:  69%|██████▉   | 9/13 [00:07<00:03,  1.19it/s, acc=99.7, loss=0.00267] "
     ]
    },
    {
     "name": "stdout",
     "output_type": "stream",
     "text": [
      "torch.Size([32, 64, 21, 28])\n"
     ]
    },
    {
     "name": "stderr",
     "output_type": "stream",
     "text": [
      "Epoch 13/15:  77%|███████▋  | 10/13 [00:08<00:02,  1.20it/s, acc=99.7, loss=0.00134]"
     ]
    },
    {
     "name": "stdout",
     "output_type": "stream",
     "text": [
      "torch.Size([32, 64, 21, 28])\n"
     ]
    },
    {
     "name": "stderr",
     "output_type": "stream",
     "text": [
      "Epoch 13/15:  85%|████████▍ | 11/13 [00:09<00:01,  1.19it/s, acc=99.7, loss=0.00562]"
     ]
    },
    {
     "name": "stdout",
     "output_type": "stream",
     "text": [
      "torch.Size([32, 64, 21, 28])\n"
     ]
    },
    {
     "name": "stderr",
     "output_type": "stream",
     "text": [
      "Epoch 13/15:  92%|█████████▏| 12/13 [00:10<00:00,  1.20it/s, acc=99.7, loss=0.025]  "
     ]
    },
    {
     "name": "stdout",
     "output_type": "stream",
     "text": [
      "torch.Size([12, 64, 21, 28])\n"
     ]
    },
    {
     "name": "stderr",
     "output_type": "stream",
     "text": [
      "Epoch 13/15: 100%|██████████| 13/13 [00:10<00:00,  1.23it/s, acc=99.7, loss=0.000445]\n"
     ]
    },
    {
     "name": "stdout",
     "output_type": "stream",
     "text": [
      "Epoch [13/15], Loss: 0.0058, Accuracy: 99.75%\n"
     ]
    },
    {
     "name": "stderr",
     "output_type": "stream",
     "text": [
      "Epoch 14/15:   0%|          | 0/13 [00:00<?, ?it/s]"
     ]
    },
    {
     "name": "stdout",
     "output_type": "stream",
     "text": [
      "torch.Size([32, 64, 21, 28])\n"
     ]
    },
    {
     "name": "stderr",
     "output_type": "stream",
     "text": [
      "Epoch 14/15:   8%|▊         | 1/13 [00:00<00:10,  1.18it/s, acc=100, loss=0.01]"
     ]
    },
    {
     "name": "stdout",
     "output_type": "stream",
     "text": [
      "torch.Size([32, 64, 21, 28])\n"
     ]
    },
    {
     "name": "stderr",
     "output_type": "stream",
     "text": [
      "Epoch 14/15:  15%|█▌        | 2/13 [00:01<00:09,  1.20it/s, acc=100, loss=0.00299]"
     ]
    },
    {
     "name": "stdout",
     "output_type": "stream",
     "text": [
      "torch.Size([32, 64, 21, 28])\n"
     ]
    },
    {
     "name": "stderr",
     "output_type": "stream",
     "text": [
      "Epoch 14/15:  23%|██▎       | 3/13 [00:02<00:08,  1.21it/s, acc=100, loss=0.00146]"
     ]
    },
    {
     "name": "stdout",
     "output_type": "stream",
     "text": [
      "torch.Size([32, 64, 21, 28])\n"
     ]
    },
    {
     "name": "stderr",
     "output_type": "stream",
     "text": [
      "Epoch 14/15:  31%|███       | 4/13 [00:03<00:07,  1.18it/s, acc=100, loss=0.00561]"
     ]
    },
    {
     "name": "stdout",
     "output_type": "stream",
     "text": [
      "torch.Size([32, 64, 21, 28])\n"
     ]
    },
    {
     "name": "stderr",
     "output_type": "stream",
     "text": [
      "Epoch 14/15:  38%|███▊      | 5/13 [00:04<00:06,  1.21it/s, acc=100, loss=0.00395]"
     ]
    },
    {
     "name": "stdout",
     "output_type": "stream",
     "text": [
      "torch.Size([32, 64, 21, 28])\n"
     ]
    },
    {
     "name": "stderr",
     "output_type": "stream",
     "text": [
      "Epoch 14/15:  46%|████▌     | 6/13 [00:04<00:05,  1.20it/s, acc=100, loss=0.00306]"
     ]
    },
    {
     "name": "stdout",
     "output_type": "stream",
     "text": [
      "torch.Size([32, 64, 21, 28])\n"
     ]
    },
    {
     "name": "stderr",
     "output_type": "stream",
     "text": [
      "Epoch 14/15:  54%|█████▍    | 7/13 [00:05<00:05,  1.14it/s, acc=100, loss=0.00666]"
     ]
    },
    {
     "name": "stdout",
     "output_type": "stream",
     "text": [
      "torch.Size([32, 64, 21, 28])\n"
     ]
    },
    {
     "name": "stderr",
     "output_type": "stream",
     "text": [
      "Epoch 14/15:  62%|██████▏   | 8/13 [00:06<00:04,  1.15it/s, acc=100, loss=0.00106]"
     ]
    },
    {
     "name": "stdout",
     "output_type": "stream",
     "text": [
      "torch.Size([32, 64, 21, 28])\n"
     ]
    },
    {
     "name": "stderr",
     "output_type": "stream",
     "text": [
      "Epoch 14/15:  69%|██████▉   | 9/13 [00:07<00:03,  1.17it/s, acc=100, loss=0.00865]"
     ]
    },
    {
     "name": "stdout",
     "output_type": "stream",
     "text": [
      "torch.Size([32, 64, 21, 28])\n"
     ]
    },
    {
     "name": "stderr",
     "output_type": "stream",
     "text": [
      "Epoch 14/15:  77%|███████▋  | 10/13 [00:08<00:02,  1.18it/s, acc=99.7, loss=0.0785]"
     ]
    },
    {
     "name": "stdout",
     "output_type": "stream",
     "text": [
      "torch.Size([32, 64, 21, 28])\n"
     ]
    },
    {
     "name": "stderr",
     "output_type": "stream",
     "text": [
      "Epoch 14/15:  85%|████████▍ | 11/13 [00:09<00:01,  1.19it/s, acc=99.7, loss=0.0011]"
     ]
    },
    {
     "name": "stdout",
     "output_type": "stream",
     "text": [
      "torch.Size([32, 64, 21, 28])\n"
     ]
    },
    {
     "name": "stderr",
     "output_type": "stream",
     "text": [
      "Epoch 14/15:  92%|█████████▏| 12/13 [00:10<00:00,  1.17it/s, acc=99.7, loss=0.000832]"
     ]
    },
    {
     "name": "stdout",
     "output_type": "stream",
     "text": [
      "torch.Size([12, 64, 21, 28])\n"
     ]
    },
    {
     "name": "stderr",
     "output_type": "stream",
     "text": [
      "Epoch 14/15: 100%|██████████| 13/13 [00:10<00:00,  1.22it/s, acc=99.7, loss=0.000914]\n"
     ]
    },
    {
     "name": "stdout",
     "output_type": "stream",
     "text": [
      "Epoch [14/15], Loss: 0.0096, Accuracy: 99.75%\n"
     ]
    },
    {
     "name": "stderr",
     "output_type": "stream",
     "text": [
      "Epoch 15/15:   0%|          | 0/13 [00:00<?, ?it/s]"
     ]
    },
    {
     "name": "stdout",
     "output_type": "stream",
     "text": [
      "torch.Size([32, 64, 21, 28])\n"
     ]
    },
    {
     "name": "stderr",
     "output_type": "stream",
     "text": [
      "Epoch 15/15:   8%|▊         | 1/13 [00:00<00:10,  1.10it/s, acc=100, loss=0.015]"
     ]
    },
    {
     "name": "stdout",
     "output_type": "stream",
     "text": [
      "torch.Size([32, 64, 21, 28])\n"
     ]
    },
    {
     "name": "stderr",
     "output_type": "stream",
     "text": [
      "Epoch 15/15:  15%|█▌        | 2/13 [00:01<00:09,  1.15it/s, acc=98.4, loss=0.0604]"
     ]
    },
    {
     "name": "stdout",
     "output_type": "stream",
     "text": [
      "torch.Size([32, 64, 21, 28])\n"
     ]
    },
    {
     "name": "stderr",
     "output_type": "stream",
     "text": [
      "Epoch 15/15:  23%|██▎       | 3/13 [00:02<00:08,  1.17it/s, acc=99, loss=0.0264]  "
     ]
    },
    {
     "name": "stdout",
     "output_type": "stream",
     "text": [
      "torch.Size([32, 64, 21, 28])\n"
     ]
    },
    {
     "name": "stderr",
     "output_type": "stream",
     "text": [
      "Epoch 15/15:  31%|███       | 4/13 [00:03<00:07,  1.19it/s, acc=98.4, loss=0.0442]"
     ]
    },
    {
     "name": "stdout",
     "output_type": "stream",
     "text": [
      "torch.Size([32, 64, 21, 28])\n"
     ]
    },
    {
     "name": "stderr",
     "output_type": "stream",
     "text": [
      "Epoch 15/15:  38%|███▊      | 5/13 [00:04<00:06,  1.18it/s, acc=98.8, loss=0.00571]"
     ]
    },
    {
     "name": "stdout",
     "output_type": "stream",
     "text": [
      "torch.Size([32, 64, 21, 28])\n"
     ]
    },
    {
     "name": "stderr",
     "output_type": "stream",
     "text": [
      "Epoch 15/15:  46%|████▌     | 6/13 [00:05<00:05,  1.19it/s, acc=99, loss=0.00615]  "
     ]
    },
    {
     "name": "stdout",
     "output_type": "stream",
     "text": [
      "torch.Size([32, 64, 21, 28])\n"
     ]
    },
    {
     "name": "stderr",
     "output_type": "stream",
     "text": [
      "Epoch 15/15:  54%|█████▍    | 7/13 [00:05<00:05,  1.20it/s, acc=98.7, loss=0.117]"
     ]
    },
    {
     "name": "stdout",
     "output_type": "stream",
     "text": [
      "torch.Size([32, 64, 21, 28])\n"
     ]
    },
    {
     "name": "stderr",
     "output_type": "stream",
     "text": [
      "Epoch 15/15:  62%|██████▏   | 8/13 [00:06<00:04,  1.15it/s, acc=98.8, loss=0.0151]"
     ]
    },
    {
     "name": "stdout",
     "output_type": "stream",
     "text": [
      "torch.Size([32, 64, 21, 28])\n"
     ]
    },
    {
     "name": "stderr",
     "output_type": "stream",
     "text": [
      "Epoch 15/15:  69%|██████▉   | 9/13 [00:07<00:03,  1.15it/s, acc=98.6, loss=0.0623]"
     ]
    },
    {
     "name": "stdout",
     "output_type": "stream",
     "text": [
      "torch.Size([32, 64, 21, 28])\n"
     ]
    },
    {
     "name": "stderr",
     "output_type": "stream",
     "text": [
      "Epoch 15/15:  77%|███████▋  | 10/13 [00:08<00:02,  1.18it/s, acc=98.8, loss=0.00282]"
     ]
    },
    {
     "name": "stdout",
     "output_type": "stream",
     "text": [
      "torch.Size([32, 64, 21, 28])\n"
     ]
    },
    {
     "name": "stderr",
     "output_type": "stream",
     "text": [
      "Epoch 15/15:  85%|████████▍ | 11/13 [00:09<00:01,  1.18it/s, acc=98.9, loss=0.00468]"
     ]
    },
    {
     "name": "stdout",
     "output_type": "stream",
     "text": [
      "torch.Size([32, 64, 21, 28])\n"
     ]
    },
    {
     "name": "stderr",
     "output_type": "stream",
     "text": [
      "Epoch 15/15:  92%|█████████▏| 12/13 [00:10<00:00,  1.19it/s, acc=99, loss=0.0158]   "
     ]
    },
    {
     "name": "stdout",
     "output_type": "stream",
     "text": [
      "torch.Size([12, 64, 21, 28])\n"
     ]
    },
    {
     "name": "stderr",
     "output_type": "stream",
     "text": [
      "Epoch 15/15: 100%|██████████| 13/13 [00:10<00:00,  1.21it/s, acc=99, loss=0.0221]\n"
     ]
    },
    {
     "name": "stdout",
     "output_type": "stream",
     "text": [
      "Epoch [15/15], Loss: 0.0306, Accuracy: 98.99%\n",
      "torch.Size([32, 64, 21, 28])\n",
      "torch.Size([32, 64, 21, 28])\n",
      "torch.Size([32, 64, 21, 28])\n",
      "torch.Size([3, 64, 21, 28])\n",
      "\n",
      "📊 Test Loss: 0.2131, Test Accuracy: 89.90%\n"
     ]
    }
   ],
   "source": [
    "# Train and Evaluate\n",
    "model.train_model(train_loader, num_epochs=15, lr=0.001)\n",
    "model.evaluate_model(test_loader)"
   ]
  },
  {
   "cell_type": "markdown",
   "metadata": {},
   "source": [
    "After  augumentation we have an improvement of data  by 5%"
   ]
  },
  {
   "cell_type": "markdown",
   "metadata": {},
   "source": [
    "# Let's try with Resnet"
   ]
  },
  {
   "cell_type": "code",
   "execution_count": 80,
   "metadata": {},
   "outputs": [],
   "source": [
    "from torchvision import models"
   ]
  },
  {
   "cell_type": "code",
   "execution_count": 85,
   "metadata": {},
   "outputs": [],
   "source": [
    "class ResNetTransfer(nn.Module):\n",
    "    def __init__(self, num_classes=10):\n",
    "        super(ResNetTransfer, self).__init__()\n",
    "        \n",
    "        # Load pretrained ResNet18 model\n",
    "        self.resnet = models.resnet18(weights=models.ResNet18_Weights.DEFAULT)\n",
    "        \n",
    "        # Freeze all layers\n",
    "        for param in self.resnet.parameters():\n",
    "            param.requires_grad = False\n",
    "        \n",
    "        # Replace the final fully connected layer with a custom one\n",
    "        num_features = self.resnet.fc.in_features\n",
    "        self.resnet.fc = nn.Linear(num_features, num_classes)\n",
    "\n",
    "        self.device = torch.device(\"cuda\" if torch.cuda.is_available() else \"cpu\")\n",
    "\n",
    "    def forward(self, x):\n",
    "        return self.resnet(x)\n",
    "    \n",
    "    def unfreeze_last_few_layers(self, num_layers=3):\n",
    "        \"\"\"\n",
    "        Unfreeze the last `num_layers` of the ResNet model to fine-tune them.\n",
    "        \"\"\"\n",
    "        layers = list(self.resnet.children())[:-1]  # Exclude the final FC layer\n",
    "        for layer in layers[-num_layers:]:\n",
    "            for param in layer.parameters():\n",
    "                param.requires_grad = True\n",
    "\n",
    "    def train_model(self, train_loader, num_epochs=10, lr=0.001):\n",
    "        criterion = nn.CrossEntropyLoss()\n",
    "        optimizer = optim.Adam(self.parameters(), lr=lr)\n",
    "        best_accuracy = 0.0\n",
    "        \n",
    "        for epoch in range(num_epochs):\n",
    "            self.train()\n",
    "            running_loss, correct, total = 0.0, 0, 0\n",
    "            for images, labels in train_loader:\n",
    "                images, labels = images.to(self.device), labels.to(self.device)\n",
    "                \n",
    "                optimizer.zero_grad()\n",
    "                outputs = self(images)\n",
    "                loss = criterion(outputs, labels)\n",
    "                loss.backward()\n",
    "                optimizer.step()\n",
    "\n",
    "                running_loss += loss.item()\n",
    "                _, predicted = torch.max(outputs, 1)\n",
    "                correct += (predicted == labels).sum().item()\n",
    "                total += labels.size(0)\n",
    "\n",
    "            epoch_acc = 100 * correct / total\n",
    "            print(f\"Epoch [{epoch+1}/{num_epochs}], Loss: {running_loss / len(train_loader):.4f}, Accuracy: {epoch_acc:.2f}%\")\n",
    "\n",
    "            if epoch_acc > best_accuracy:\n",
    "                best_accuracy = epoch_acc\n",
    "                torch.save(self.state_dict(), \"best_resnet_model.pth\")\n",
    "                print(\"Model saved!\")\n",
    "\n",
    "    def evaluate_model(self, test_loader):\n",
    "        self.eval()\n",
    "        correct, total, test_loss = 0, 0, 0.0\n",
    "        criterion = nn.CrossEntropyLoss()\n",
    "\n",
    "        with torch.no_grad():\n",
    "            for images, labels in test_loader:\n",
    "                images, labels = images.to(self.device), labels.to(self.device)\n",
    "                outputs = self(images)\n",
    "                loss = criterion(outputs, labels)\n",
    "                test_loss += loss.item()\n",
    "\n",
    "                _, predicted = torch.max(outputs, 1)\n",
    "                correct += (predicted == labels).sum().item()\n",
    "                total += labels.size(0)\n",
    "\n",
    "        test_accuracy = 100 * correct / total\n",
    "        print(f\"\\n📊 Test Loss: {test_loss / len(test_loader):.4f}, Test Accuracy: {test_accuracy:.2f}%\")"
   ]
  },
  {
   "cell_type": "code",
   "execution_count": 86,
   "metadata": {},
   "outputs": [],
   "source": [
    "# Initialize model\n",
    "num_classes = len(full_dataset.class_to_idx)  \n",
    "model = ResNetTransfer(num_classes)"
   ]
  },
  {
   "cell_type": "code",
   "execution_count": 87,
   "metadata": {},
   "outputs": [],
   "source": [
    "model.unfreeze_last_few_layers(num_layers=3)"
   ]
  },
  {
   "cell_type": "code",
   "execution_count": 88,
   "metadata": {},
   "outputs": [
    {
     "name": "stdout",
     "output_type": "stream",
     "text": [
      "Epoch [1/15], Loss: 0.4498, Accuracy: 82.83%\n",
      "Model saved!\n",
      "Epoch [2/15], Loss: 0.1517, Accuracy: 94.95%\n",
      "Model saved!\n",
      "Epoch [3/15], Loss: 0.0622, Accuracy: 99.24%\n",
      "Model saved!\n",
      "Epoch [4/15], Loss: 0.0413, Accuracy: 98.99%\n",
      "Epoch [5/15], Loss: 0.0229, Accuracy: 99.24%\n",
      "Epoch [6/15], Loss: 0.0049, Accuracy: 100.00%\n",
      "Model saved!\n",
      "Epoch [7/15], Loss: 0.0038, Accuracy: 100.00%\n",
      "Epoch [8/15], Loss: 0.0105, Accuracy: 99.75%\n",
      "Epoch [9/15], Loss: 0.0285, Accuracy: 99.24%\n",
      "Epoch [10/15], Loss: 0.0062, Accuracy: 100.00%\n",
      "Epoch [11/15], Loss: 0.0047, Accuracy: 100.00%\n",
      "Epoch [12/15], Loss: 0.0028, Accuracy: 100.00%\n",
      "Epoch [13/15], Loss: 0.0009, Accuracy: 100.00%\n",
      "Epoch [14/15], Loss: 0.0016, Accuracy: 100.00%\n",
      "Epoch [15/15], Loss: 0.0004, Accuracy: 100.00%\n",
      "\n",
      "📊 Test Loss: 0.0773, Test Accuracy: 96.97%\n"
     ]
    }
   ],
   "source": [
    "# Train and Evaluate\n",
    "model.train_model(train_loader, num_epochs=15, lr=0.001)\n",
    "model.evaluate_model(test_loader)"
   ]
  },
  {
   "cell_type": "code",
   "execution_count": null,
   "metadata": {},
   "outputs": [],
   "source": []
  }
 ],
 "metadata": {
  "kernelspec": {
   "display_name": ".venv",
   "language": "python",
   "name": "python3"
  },
  "language_info": {
   "codemirror_mode": {
    "name": "ipython",
    "version": 3
   },
   "file_extension": ".py",
   "mimetype": "text/x-python",
   "name": "python",
   "nbconvert_exporter": "python",
   "pygments_lexer": "ipython3",
   "version": "3.12.2"
  }
 },
 "nbformat": 4,
 "nbformat_minor": 2
}
